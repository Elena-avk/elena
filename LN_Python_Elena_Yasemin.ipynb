{
 "cells": [
  {
   "cell_type": "markdown",
   "id": "2341b96f",
   "metadata": {},
   "source": [
    "# Grundgerüst Leistungsausweis\n",
    "Dieses Notebook soll euch als Grundgerüst für euren Leistungsnachweis dienen. Es soll euch eine Idee/ Hilfestellung bieten, wie man einen neuen Datensatz, basierend auf einer Fragestellung, strukturiert analysieren und interpretieren kann. Wie besagt, dient das Notebook als Hilfestellung, ist jedoch keinenfalls vollständig ausgeschöpft. In diesem Sinne dürft ihr auch gerne Sachen miteinbeziehen, welche hier nicht genannt werden. \n",
    "\n",
    "-> Bitte schreibt die Antwort zu den jeweiligen Punkten an oberster Stelle unterhalb der Titel (so wie dies auch im Leistungsnachweisbeispiel gemacht wurde).\n",
    "\n",
    "\n",
    "## Struktur\n",
    "1. Fragestellung(en) und Datenbeschaffung\n",
    "2. Daten laden\n",
    "3. Daten vorbereiten\n",
    "4. Statistik der Rohdaten (Generell im Longformat)\n",
    "5. Analyse der Daten\n",
    "\n",
    "**Wichtig:** Alle graphischen Darstellungen sollten mindestens *Titel, Ticks- und Achsenbeschriftung* beinhalten (Siehe plots im Leistungsnachweisbeispiel)\n",
    "\n",
    "---"
   ]
  },
  {
   "cell_type": "markdown",
   "id": "f9e9bf68",
   "metadata": {},
   "source": [
    "## 1. Fragestellung(en) und Datenbeschaffung\n",
    "### 1.1 Titel: \n",
    "- Self-reported life satisfaction, 2011 to 2023 \n",
    "### 1.2 Fragestellung:\n",
    "- Welches Land hat die höchste/niedriegste Lebenszufriedenheit? Was sind die Gründe dafür? \n",
    "### 1.3 Datenquelle(n):\n",
    "Beispiele für mögliche Datenquellen:\n",
    "- https://ourworldindata.org\n",
    "-\n",
    "\n",
    "\n"
   ]
  },
  {
   "cell_type": "markdown",
   "id": "3008eecd",
   "metadata": {},
   "source": [
    "### 1.4 Daten beschaffen und laden"
   ]
  },
  {
   "cell_type": "code",
   "execution_count": 6,
   "id": "a27050af",
   "metadata": {},
   "outputs": [],
   "source": [
    "# lade deine Bibliotheken -> Pandas, Seaborn, Matplotlib sind die wichtigsten für diese Aufgaben\n",
    "\n",
    "import pandas as pd\n",
    "import seaborn as sns\n",
    "from matplotlib import pyplot as plt"
   ]
  },
  {
   "cell_type": "code",
   "execution_count": 43,
   "id": "18941208",
   "metadata": {},
   "outputs": [
    {
     "data": {
      "text/html": [
       "<div>\n",
       "<style scoped>\n",
       "    .dataframe tbody tr th:only-of-type {\n",
       "        vertical-align: middle;\n",
       "    }\n",
       "\n",
       "    .dataframe tbody tr th {\n",
       "        vertical-align: top;\n",
       "    }\n",
       "\n",
       "    .dataframe thead th {\n",
       "        text-align: right;\n",
       "    }\n",
       "</style>\n",
       "<table border=\"1\" class=\"dataframe\">\n",
       "  <thead>\n",
       "    <tr style=\"text-align: right;\">\n",
       "      <th></th>\n",
       "      <th>Gebiet</th>\n",
       "      <th>Code</th>\n",
       "      <th>Jahr</th>\n",
       "      <th>Cantril ladder score</th>\n",
       "    </tr>\n",
       "  </thead>\n",
       "  <tbody>\n",
       "    <tr>\n",
       "      <th>0</th>\n",
       "      <td>Afghanistan</td>\n",
       "      <td>AFG</td>\n",
       "      <td>2011</td>\n",
       "      <td>4.25835</td>\n",
       "    </tr>\n",
       "    <tr>\n",
       "      <th>1</th>\n",
       "      <td>Afghanistan</td>\n",
       "      <td>AFG</td>\n",
       "      <td>2014</td>\n",
       "      <td>3.57500</td>\n",
       "    </tr>\n",
       "    <tr>\n",
       "      <th>2</th>\n",
       "      <td>Afghanistan</td>\n",
       "      <td>AFG</td>\n",
       "      <td>2015</td>\n",
       "      <td>3.36000</td>\n",
       "    </tr>\n",
       "    <tr>\n",
       "      <th>3</th>\n",
       "      <td>Afghanistan</td>\n",
       "      <td>AFG</td>\n",
       "      <td>2016</td>\n",
       "      <td>3.79400</td>\n",
       "    </tr>\n",
       "    <tr>\n",
       "      <th>4</th>\n",
       "      <td>Afghanistan</td>\n",
       "      <td>AFG</td>\n",
       "      <td>2017</td>\n",
       "      <td>3.63150</td>\n",
       "    </tr>\n",
       "  </tbody>\n",
       "</table>\n",
       "</div>"
      ],
      "text/plain": [
       "        Gebiet Code  Jahr  Cantril ladder score\n",
       "0  Afghanistan  AFG  2011               4.25835\n",
       "1  Afghanistan  AFG  2014               3.57500\n",
       "2  Afghanistan  AFG  2015               3.36000\n",
       "3  Afghanistan  AFG  2016               3.79400\n",
       "4  Afghanistan  AFG  2017               3.63150"
      ]
     },
     "execution_count": 43,
     "metadata": {},
     "output_type": "execute_result"
    }
   ],
   "source": [
    "df = pd.read_csv('happiness-cantril-ladder.csv', skiprows=1,\n",
    "                 names=['Gebiet','Code','Jahr','Cantril ladder score']) \n",
    "df.head()"
   ]
  },
  {
   "cell_type": "markdown",
   "id": "25d1e798",
   "metadata": {},
   "source": [
    "## 2. Daten vorbereiten \n",
    "- Welches Format hat mein Datensatz bzw. wie sind meine Kolumnen strukturiert?\n",
    "- Welches Format kann ich für welche Teilschritte verwenden (wann soll ich pivot bzw. wide format verwenden)?\n",
    "- Welche Datentypen kommen in meinem Datensatz vor?"
   ]
  },
  {
   "cell_type": "markdown",
   "id": "f1ead24b",
   "metadata": {},
   "source": [
    "Die Daten sind im Long-Format."
   ]
  },
  {
   "cell_type": "code",
   "execution_count": 4,
   "id": "7f4fefb8",
   "metadata": {},
   "outputs": [
    {
     "data": {
      "text/html": [
       "<div>\n",
       "<style scoped>\n",
       "    .dataframe tbody tr th:only-of-type {\n",
       "        vertical-align: middle;\n",
       "    }\n",
       "\n",
       "    .dataframe tbody tr th {\n",
       "        vertical-align: top;\n",
       "    }\n",
       "\n",
       "    .dataframe thead th {\n",
       "        text-align: right;\n",
       "    }\n",
       "</style>\n",
       "<table border=\"1\" class=\"dataframe\">\n",
       "  <thead>\n",
       "    <tr style=\"text-align: right;\">\n",
       "      <th>Jahr</th>\n",
       "      <th>2011</th>\n",
       "      <th>2014</th>\n",
       "      <th>2015</th>\n",
       "      <th>2016</th>\n",
       "      <th>2017</th>\n",
       "      <th>2018</th>\n",
       "      <th>2019</th>\n",
       "      <th>2020</th>\n",
       "      <th>2021</th>\n",
       "      <th>2022</th>\n",
       "      <th>2023</th>\n",
       "    </tr>\n",
       "    <tr>\n",
       "      <th>Gebiet</th>\n",
       "      <th></th>\n",
       "      <th></th>\n",
       "      <th></th>\n",
       "      <th></th>\n",
       "      <th></th>\n",
       "      <th></th>\n",
       "      <th></th>\n",
       "      <th></th>\n",
       "      <th></th>\n",
       "      <th></th>\n",
       "      <th></th>\n",
       "    </tr>\n",
       "  </thead>\n",
       "  <tbody>\n",
       "    <tr>\n",
       "      <th>Afghanistan</th>\n",
       "      <td>4.258350</td>\n",
       "      <td>3.575000</td>\n",
       "      <td>3.360000</td>\n",
       "      <td>3.794000</td>\n",
       "      <td>3.631500</td>\n",
       "      <td>3.203300</td>\n",
       "      <td>2.566900</td>\n",
       "      <td>2.522900</td>\n",
       "      <td>2.403800</td>\n",
       "      <td>1.859000</td>\n",
       "      <td>1.721000</td>\n",
       "    </tr>\n",
       "    <tr>\n",
       "      <th>Africa</th>\n",
       "      <td>4.453107</td>\n",
       "      <td>4.474157</td>\n",
       "      <td>4.395968</td>\n",
       "      <td>4.457408</td>\n",
       "      <td>4.445971</td>\n",
       "      <td>4.511974</td>\n",
       "      <td>4.459995</td>\n",
       "      <td>4.551006</td>\n",
       "      <td>4.517288</td>\n",
       "      <td>4.426524</td>\n",
       "      <td>4.384616</td>\n",
       "    </tr>\n",
       "    <tr>\n",
       "      <th>Albania</th>\n",
       "      <td>5.133704</td>\n",
       "      <td>4.959000</td>\n",
       "      <td>4.655000</td>\n",
       "      <td>4.644000</td>\n",
       "      <td>4.586000</td>\n",
       "      <td>4.718600</td>\n",
       "      <td>4.882700</td>\n",
       "      <td>5.117400</td>\n",
       "      <td>5.198800</td>\n",
       "      <td>5.277300</td>\n",
       "      <td>5.304200</td>\n",
       "    </tr>\n",
       "    <tr>\n",
       "      <th>Algeria</th>\n",
       "      <td>5.367827</td>\n",
       "      <td>5.605000</td>\n",
       "      <td>6.355000</td>\n",
       "      <td>5.872000</td>\n",
       "      <td>5.294600</td>\n",
       "      <td>5.211300</td>\n",
       "      <td>5.005100</td>\n",
       "      <td>4.887100</td>\n",
       "      <td>5.122300</td>\n",
       "      <td>5.329100</td>\n",
       "      <td>5.363500</td>\n",
       "    </tr>\n",
       "    <tr>\n",
       "      <th>Angola</th>\n",
       "      <td>4.178380</td>\n",
       "      <td>4.033000</td>\n",
       "      <td>3.866000</td>\n",
       "      <td>3.795000</td>\n",
       "      <td>3.794800</td>\n",
       "      <td>NaN</td>\n",
       "      <td>NaN</td>\n",
       "      <td>NaN</td>\n",
       "      <td>NaN</td>\n",
       "      <td>NaN</td>\n",
       "      <td>NaN</td>\n",
       "    </tr>\n",
       "  </tbody>\n",
       "</table>\n",
       "</div>"
      ],
      "text/plain": [
       "Jahr             2011      2014      2015      2016      2017      2018  \\\n",
       "Gebiet                                                                    \n",
       "Afghanistan  4.258350  3.575000  3.360000  3.794000  3.631500  3.203300   \n",
       "Africa       4.453107  4.474157  4.395968  4.457408  4.445971  4.511974   \n",
       "Albania      5.133704  4.959000  4.655000  4.644000  4.586000  4.718600   \n",
       "Algeria      5.367827  5.605000  6.355000  5.872000  5.294600  5.211300   \n",
       "Angola       4.178380  4.033000  3.866000  3.795000  3.794800       NaN   \n",
       "\n",
       "Jahr             2019      2020      2021      2022      2023  \n",
       "Gebiet                                                         \n",
       "Afghanistan  2.566900  2.522900  2.403800  1.859000  1.721000  \n",
       "Africa       4.459995  4.551006  4.517288  4.426524  4.384616  \n",
       "Albania      4.882700  5.117400  5.198800  5.277300  5.304200  \n",
       "Algeria      5.005100  4.887100  5.122300  5.329100  5.363500  \n",
       "Angola            NaN       NaN       NaN       NaN       NaN  "
      ]
     },
     "execution_count": 4,
     "metadata": {},
     "output_type": "execute_result"
    }
   ],
   "source": [
    "df_pivot = df.pivot(index='Gebiet', columns='Jahr', values='Cantril ladder score')\n",
    "df_pivot.head()"
   ]
  },
  {
   "cell_type": "markdown",
   "id": "28195847",
   "metadata": {},
   "source": [
    "## 3. Statistik der Rohdaten (Analyse im Long-Format)\n",
    "- Ist meine Variable kontinuierlich oder diskret? Falls diskret, wieviele einzigartige Klassen gibt es? Wieviele Datenpunkte pro Klasse sind vorhanden?\n",
    "- Anzahl Datenpunkte (Beschreibend und Graphische Darstellung)\n",
    "    - Wieviele Datenpunkte sind für die bestimmten Variabeln vorhanden?\n",
    "    - Wo fehlen Datenpunkte?\n",
    "- Wie ist die Verteilung der zu untersuchenden Variabel(n) (Histogram, Boxplot, Säulendiagram)\n",
    "- Vermutest du Zusammenhänge zwischen zwei Variabeln (Streuungsdiagramm, Korrelationsmatrix)\n",
    "\n",
    "*Notiz: Zu jeder Kolumne sollte generell eine Aussage möglich sein.*"
   ]
  },
  {
   "cell_type": "code",
   "execution_count": 44,
   "id": "6db8081e",
   "metadata": {},
   "outputs": [
    {
     "data": {
      "text/html": [
       "<div>\n",
       "<style scoped>\n",
       "    .dataframe tbody tr th:only-of-type {\n",
       "        vertical-align: middle;\n",
       "    }\n",
       "\n",
       "    .dataframe tbody tr th {\n",
       "        vertical-align: top;\n",
       "    }\n",
       "\n",
       "    .dataframe thead th {\n",
       "        text-align: right;\n",
       "    }\n",
       "</style>\n",
       "<table border=\"1\" class=\"dataframe\">\n",
       "  <thead>\n",
       "    <tr style=\"text-align: right;\">\n",
       "      <th></th>\n",
       "      <th>Gebiet</th>\n",
       "      <th>Code</th>\n",
       "      <th>Jahr</th>\n",
       "      <th>Cantril ladder score</th>\n",
       "    </tr>\n",
       "  </thead>\n",
       "  <tbody>\n",
       "    <tr>\n",
       "      <th>0</th>\n",
       "      <td>Afghanistan</td>\n",
       "      <td>AFG</td>\n",
       "      <td>2011</td>\n",
       "      <td>4.25835</td>\n",
       "    </tr>\n",
       "    <tr>\n",
       "      <th>1</th>\n",
       "      <td>Afghanistan</td>\n",
       "      <td>AFG</td>\n",
       "      <td>2014</td>\n",
       "      <td>3.57500</td>\n",
       "    </tr>\n",
       "    <tr>\n",
       "      <th>2</th>\n",
       "      <td>Afghanistan</td>\n",
       "      <td>AFG</td>\n",
       "      <td>2015</td>\n",
       "      <td>3.36000</td>\n",
       "    </tr>\n",
       "    <tr>\n",
       "      <th>3</th>\n",
       "      <td>Afghanistan</td>\n",
       "      <td>AFG</td>\n",
       "      <td>2016</td>\n",
       "      <td>3.79400</td>\n",
       "    </tr>\n",
       "    <tr>\n",
       "      <th>4</th>\n",
       "      <td>Afghanistan</td>\n",
       "      <td>AFG</td>\n",
       "      <td>2017</td>\n",
       "      <td>3.63150</td>\n",
       "    </tr>\n",
       "    <tr>\n",
       "      <th>...</th>\n",
       "      <td>...</td>\n",
       "      <td>...</td>\n",
       "      <td>...</td>\n",
       "      <td>...</td>\n",
       "    </tr>\n",
       "    <tr>\n",
       "      <th>1782</th>\n",
       "      <td>Zimbabwe</td>\n",
       "      <td>ZWE</td>\n",
       "      <td>2019</td>\n",
       "      <td>3.29920</td>\n",
       "    </tr>\n",
       "    <tr>\n",
       "      <th>1783</th>\n",
       "      <td>Zimbabwe</td>\n",
       "      <td>ZWE</td>\n",
       "      <td>2020</td>\n",
       "      <td>3.14480</td>\n",
       "    </tr>\n",
       "    <tr>\n",
       "      <th>1784</th>\n",
       "      <td>Zimbabwe</td>\n",
       "      <td>ZWE</td>\n",
       "      <td>2021</td>\n",
       "      <td>2.99510</td>\n",
       "    </tr>\n",
       "    <tr>\n",
       "      <th>1785</th>\n",
       "      <td>Zimbabwe</td>\n",
       "      <td>ZWE</td>\n",
       "      <td>2022</td>\n",
       "      <td>3.20350</td>\n",
       "    </tr>\n",
       "    <tr>\n",
       "      <th>1786</th>\n",
       "      <td>Zimbabwe</td>\n",
       "      <td>ZWE</td>\n",
       "      <td>2023</td>\n",
       "      <td>3.34110</td>\n",
       "    </tr>\n",
       "  </tbody>\n",
       "</table>\n",
       "<p>1787 rows × 4 columns</p>\n",
       "</div>"
      ],
      "text/plain": [
       "           Gebiet Code  Jahr  Cantril ladder score\n",
       "0     Afghanistan  AFG  2011               4.25835\n",
       "1     Afghanistan  AFG  2014               3.57500\n",
       "2     Afghanistan  AFG  2015               3.36000\n",
       "3     Afghanistan  AFG  2016               3.79400\n",
       "4     Afghanistan  AFG  2017               3.63150\n",
       "...           ...  ...   ...                   ...\n",
       "1782     Zimbabwe  ZWE  2019               3.29920\n",
       "1783     Zimbabwe  ZWE  2020               3.14480\n",
       "1784     Zimbabwe  ZWE  2021               2.99510\n",
       "1785     Zimbabwe  ZWE  2022               3.20350\n",
       "1786     Zimbabwe  ZWE  2023               3.34110\n",
       "\n",
       "[1787 rows x 4 columns]"
      ]
     },
     "execution_count": 44,
     "metadata": {},
     "output_type": "execute_result"
    }
   ],
   "source": [
    "import pandas as pd\n",
    "df = pd.read_csv('happiness-cantril-ladder.csv', skiprows=1,\n",
    "                 names=['Gebiet','Code','Jahr','Cantril ladder score']) \n",
    "df"
   ]
  },
  {
   "cell_type": "code",
   "execution_count": 73,
   "id": "f1832844",
   "metadata": {},
   "outputs": [
    {
     "data": {
      "text/plain": [
       "Gebiet     object\n",
       "Code       object\n",
       "Jahr        int64\n",
       "score     float64\n",
       "dtype: object"
      ]
     },
     "execution_count": 73,
     "metadata": {},
     "output_type": "execute_result"
    }
   ],
   "source": [
    "df.dtypes"
   ]
  },
  {
   "cell_type": "markdown",
   "id": "99a5fa1e",
   "metadata": {},
   "source": [
    "## 3.1 Analyse Gebiete ##"
   ]
  },
  {
   "cell_type": "code",
   "execution_count": 6,
   "id": "98845b14",
   "metadata": {},
   "outputs": [
    {
     "data": {
      "text/plain": [
       "178"
      ]
     },
     "execution_count": 6,
     "metadata": {},
     "output_type": "execute_result"
    }
   ],
   "source": [
    "len(df['Gebiet'].unique())\n"
   ]
  },
  {
   "cell_type": "code",
   "execution_count": 77,
   "id": "77d130a7",
   "metadata": {},
   "outputs": [
    {
     "data": {
      "text/plain": [
       "Gebiet\n",
       "Afghanistan    11\n",
       "Niger          11\n",
       "Montenegro     11\n",
       "Morocco        11\n",
       "Myanmar        11\n",
       "               ..\n",
       "Djibouti        2\n",
       "Puerto Rico     2\n",
       "Cuba            1\n",
       "Guyana          1\n",
       "Oman            1\n",
       "Name: count, Length: 178, dtype: int64"
      ]
     },
     "execution_count": 77,
     "metadata": {},
     "output_type": "execute_result"
    }
   ],
   "source": [
    "df['Gebiet'].value_counts()"
   ]
  },
  {
   "cell_type": "code",
   "execution_count": 78,
   "id": "a91d1f3d",
   "metadata": {},
   "outputs": [
    {
     "data": {
      "text/plain": [
       "<Axes: title={'center': 'Anzahl Datenpunkte pro Gebiet'}, xlabel='Gebiet', ylabel='Anzahl Datenpunkte'>"
      ]
     },
     "execution_count": 78,
     "metadata": {},
     "output_type": "execute_result"
    },
    {
     "data": {
      "image/png": "[encoded data removed]",
      "text/plain": [
       "<Figure size 1000x500 with 1 Axes>"
      ]
     },
     "metadata": {},
     "output_type": "display_data"
    }
   ],
   "source": [
    "df['Gebiet'].value_counts().plot(kind='bar', xticks=[],ylabel='Anzahl Datenpunkte',figsize= (10,5), title='Anzahl Datenpunkte pro Gebiet')"
   ]
  },
  {
   "cell_type": "markdown",
   "id": "43956183",
   "metadata": {},
   "source": [
    "## 3.2 Analyse Codes ##"
   ]
  },
  {
   "cell_type": "code",
   "execution_count": 20,
   "id": "8968f247",
   "metadata": {},
   "outputs": [
    {
     "name": "stdout",
     "output_type": "stream",
     "text": [
      "Anzahl verschiedener Codes:  169\n"
     ]
    }
   ],
   "source": [
    "print('Anzahl verschiedener Codes: ', len(df['Code'].unique()))"
   ]
  },
  {
   "cell_type": "code",
   "execution_count": 19,
   "id": "93e5c4d6",
   "metadata": {},
   "outputs": [
    {
     "data": {
      "text/plain": [
       "Code\n",
       "AFG    11\n",
       "PHL    11\n",
       "MNE    11\n",
       "MAR    11\n",
       "MMR    11\n",
       "       ..\n",
       "PRI     2\n",
       "SUR     2\n",
       "CUB     1\n",
       "OMN     1\n",
       "GUY     1\n",
       "Name: count, Length: 168, dtype: int64"
      ]
     },
     "execution_count": 19,
     "metadata": {},
     "output_type": "execute_result"
    }
   ],
   "source": [
    "df['Code'].value_counts()"
   ]
  },
  {
   "cell_type": "code",
   "execution_count": 18,
   "id": "278dd842",
   "metadata": {},
   "outputs": [
    {
     "data": {
      "image/png": "[encoded data removed]",
      "text/plain": [
       "<Figure size 1000x500 with 1 Axes>"
      ]
     },
     "metadata": {},
     "output_type": "display_data"
    }
   ],
   "source": [
    "df['Code'].value_counts().plot(kind='bar',xticks=[], ylabel='Anzahl Datenpunkte',figsize= (10,5), title='Anzahl Datenpunkte pro Code');"
   ]
  },
  {
   "cell_type": "code",
   "execution_count": 33,
   "id": "44221942",
   "metadata": {},
   "outputs": [
    {
     "name": "stdout",
     "output_type": "stream",
     "text": [
      "Gebiet\n",
      "Azerbaijan                      10\n",
      "Laos                            10\n",
      "Yemen                           10\n",
      "Kuwait                          10\n",
      "Libya                           10\n",
      "Mozambique                      10\n",
      "Gabon                           10\n",
      "Namibia                         10\n",
      "Comoros                          9\n",
      "Democratic Republic of Congo     9\n",
      "Belarus                          9\n",
      "Turkmenistan                     9\n",
      "Rwanda                           9\n",
      "Lesotho                          8\n",
      "Northern Cyprus                  8\n",
      "Haiti                            8\n",
      "Burundi                          8\n",
      "Trinidad and Tobago              7\n",
      "Central African Republic         6\n",
      "Eswatini                         6\n",
      "Syria                            6\n",
      "Gambia                           6\n",
      "Qatar                            6\n",
      "Bhutan                           5\n",
      "Angola                           5\n",
      "Sudan                            5\n",
      "South Sudan                      5\n",
      "Belize                           4\n",
      "Somalia                          4\n",
      "Somaliland                       3\n",
      "Suriname                         2\n",
      "Maldives                         2\n",
      "Djibouti                         2\n",
      "Puerto Rico                      2\n",
      "Cuba                             1\n",
      "Guyana                           1\n",
      "Oman                             1\n",
      "Name: count, dtype: int64\n"
     ]
    }
   ],
   "source": [
    "value_counts = df['Gebiet'].value_counts()\n",
    "low_data_countries = value_counts[value_counts < 11]\n",
    "print(low_data_countries)"
   ]
  },
  {
   "cell_type": "markdown",
   "id": "ffe3d518",
   "metadata": {},
   "source": [
    "## 3.3 Analyse Jahr ##"
   ]
  },
  {
   "cell_type": "code",
   "execution_count": 79,
   "id": "2f22099d",
   "metadata": {},
   "outputs": [
    {
     "name": "stdout",
     "output_type": "stream",
     "text": [
      "Anzahl verschiedener Jahre:  11\n"
     ]
    }
   ],
   "source": [
    "print('Anzahl verschiedener Jahre: ', len(df['Jahr'].unique()))"
   ]
  },
  {
   "cell_type": "markdown",
   "id": "a5b24d39",
   "metadata": {},
   "source": [
    "#### Anzahl Datenpunkte pro Jahr ####"
   ]
  },
  {
   "cell_type": "code",
   "execution_count": 80,
   "id": "0c3fc941",
   "metadata": {},
   "outputs": [
    {
     "data": {
      "text/plain": [
       "Jahr\n",
       "2011    167\n",
       "2014    169\n",
       "2015    168\n",
       "2016    166\n",
       "2017    167\n",
       "2018    167\n",
       "2019    164\n",
       "2020    160\n",
       "2021    157\n",
       "2022    148\n",
       "2023    154\n",
       "Name: count, dtype: int64"
      ]
     },
     "execution_count": 80,
     "metadata": {},
     "output_type": "execute_result"
    }
   ],
   "source": [
    "df['Jahr'].value_counts().sort_index()"
   ]
  },
  {
   "cell_type": "code",
   "execution_count": 8,
   "id": "ac8e7e39",
   "metadata": {},
   "outputs": [
    {
     "data": {
      "text/plain": [
       "<matplotlib.legend.Legend at 0x1762af560>"
      ]
     },
     "execution_count": 8,
     "metadata": {},
     "output_type": "execute_result"
    },
    {
     "data": {
      "image/png": "[encoded data removed]",
      "text/plain": [
       "<Figure size 640x480 with 1 Axes>"
      ]
     },
     "metadata": {},
     "output_type": "display_data"
    }
   ],
   "source": [
    "g = df['Jahr'].value_counts().sort_index().plot(ylabel='Anzahl Datenpunkte', title='Anzahl Datenpunkte pro Jahr');\n",
    "g.axvline(x=2014, color='red',label='2014')\n",
    "g.legend()  "
   ]
  },
  {
   "cell_type": "code",
   "execution_count": 29,
   "id": "f882af66",
   "metadata": {},
   "outputs": [
    {
     "name": "stdout",
     "output_type": "stream",
     "text": [
      "Mittelwert: 5.455646661275882\n",
      "Median: 5.4318\n",
      "Standardabweichung: 1.1146867665403009\n",
      "5% Perzentil: 3.59783\n",
      "99.9% Perzentil: 7.825515400000003\n",
      "Max: 7.85574\n",
      "Min: 1.721\n"
     ]
    }
   ],
   "source": [
    "print('Mittelwert:',df['Cantril ladder score'].mean())\n",
    "print('Median:',df['Cantril ladder score'].median())\n",
    "print('Standardabweichung:',df['Cantril ladder score'].std())\n",
    "print('5% Perzentil:',df['Cantril ladder score'].quantile(0.05))\n",
    "print('99.9% Perzentil:',df['Cantril ladder score'].quantile(0.999))\n",
    "print('Max:',df['Cantril ladder score'].max())\n",
    "print('Min:',df['Cantril ladder score'].min())"
   ]
  },
  {
   "cell_type": "code",
   "execution_count": 28,
   "id": "c67e8916",
   "metadata": {},
   "outputs": [
    {
     "data": {
      "text/html": [
       "<div>\n",
       "<style scoped>\n",
       "    .dataframe tbody tr th:only-of-type {\n",
       "        vertical-align: middle;\n",
       "    }\n",
       "\n",
       "    .dataframe tbody tr th {\n",
       "        vertical-align: top;\n",
       "    }\n",
       "\n",
       "    .dataframe thead th {\n",
       "        text-align: right;\n",
       "    }\n",
       "</style>\n",
       "<table border=\"1\" class=\"dataframe\">\n",
       "  <thead>\n",
       "    <tr style=\"text-align: right;\">\n",
       "      <th></th>\n",
       "      <th>Jahr</th>\n",
       "      <th>Cantril ladder score</th>\n",
       "    </tr>\n",
       "  </thead>\n",
       "  <tbody>\n",
       "    <tr>\n",
       "      <th>count</th>\n",
       "      <td>1787.000000</td>\n",
       "      <td>1787.000000</td>\n",
       "    </tr>\n",
       "    <tr>\n",
       "      <th>mean</th>\n",
       "      <td>2017.702854</td>\n",
       "      <td>5.455647</td>\n",
       "    </tr>\n",
       "    <tr>\n",
       "      <th>std</th>\n",
       "      <td>3.470175</td>\n",
       "      <td>1.114687</td>\n",
       "    </tr>\n",
       "    <tr>\n",
       "      <th>min</th>\n",
       "      <td>2011.000000</td>\n",
       "      <td>1.721000</td>\n",
       "    </tr>\n",
       "    <tr>\n",
       "      <th>25%</th>\n",
       "      <td>2015.000000</td>\n",
       "      <td>4.594467</td>\n",
       "    </tr>\n",
       "    <tr>\n",
       "      <th>50%</th>\n",
       "      <td>2018.000000</td>\n",
       "      <td>5.431800</td>\n",
       "    </tr>\n",
       "    <tr>\n",
       "      <th>75%</th>\n",
       "      <td>2021.000000</td>\n",
       "      <td>6.298900</td>\n",
       "    </tr>\n",
       "    <tr>\n",
       "      <th>max</th>\n",
       "      <td>2023.000000</td>\n",
       "      <td>7.855740</td>\n",
       "    </tr>\n",
       "  </tbody>\n",
       "</table>\n",
       "</div>"
      ],
      "text/plain": [
       "              Jahr  Cantril ladder score\n",
       "count  1787.000000           1787.000000\n",
       "mean   2017.702854              5.455647\n",
       "std       3.470175              1.114687\n",
       "min    2011.000000              1.721000\n",
       "25%    2015.000000              4.594467\n",
       "50%    2018.000000              5.431800\n",
       "75%    2021.000000              6.298900\n",
       "max    2023.000000              7.855740"
      ]
     },
     "execution_count": 28,
     "metadata": {},
     "output_type": "execute_result"
    }
   ],
   "source": [
    "df.describe()"
   ]
  },
  {
   "cell_type": "code",
   "execution_count": 12,
   "id": "04a5846f",
   "metadata": {},
   "outputs": [
    {
     "data": {
      "text/html": [
       "<div>\n",
       "<style scoped>\n",
       "    .dataframe tbody tr th:only-of-type {\n",
       "        vertical-align: middle;\n",
       "    }\n",
       "\n",
       "    .dataframe tbody tr th {\n",
       "        vertical-align: top;\n",
       "    }\n",
       "\n",
       "    .dataframe thead th {\n",
       "        text-align: right;\n",
       "    }\n",
       "</style>\n",
       "<table border=\"1\" class=\"dataframe\">\n",
       "  <thead>\n",
       "    <tr style=\"text-align: right;\">\n",
       "      <th></th>\n",
       "      <th>Gebiet</th>\n",
       "      <th>Code</th>\n",
       "      <th>Jahr</th>\n",
       "      <th>Cantril ladder score</th>\n",
       "    </tr>\n",
       "  </thead>\n",
       "  <tbody>\n",
       "    <tr>\n",
       "      <th>418</th>\n",
       "      <td>Denmark</td>\n",
       "      <td>DNK</td>\n",
       "      <td>2011</td>\n",
       "      <td>7.85574</td>\n",
       "    </tr>\n",
       "    <tr>\n",
       "      <th>521</th>\n",
       "      <td>Finland</td>\n",
       "      <td>FIN</td>\n",
       "      <td>2020</td>\n",
       "      <td>7.84210</td>\n",
       "    </tr>\n",
       "    <tr>\n",
       "      <th>522</th>\n",
       "      <td>Finland</td>\n",
       "      <td>FIN</td>\n",
       "      <td>2021</td>\n",
       "      <td>7.82100</td>\n",
       "    </tr>\n",
       "    <tr>\n",
       "      <th>520</th>\n",
       "      <td>Finland</td>\n",
       "      <td>FIN</td>\n",
       "      <td>2019</td>\n",
       "      <td>7.80870</td>\n",
       "    </tr>\n",
       "    <tr>\n",
       "      <th>523</th>\n",
       "      <td>Finland</td>\n",
       "      <td>FIN</td>\n",
       "      <td>2022</td>\n",
       "      <td>7.80420</td>\n",
       "    </tr>\n",
       "    <tr>\n",
       "      <th>519</th>\n",
       "      <td>Finland</td>\n",
       "      <td>FIN</td>\n",
       "      <td>2018</td>\n",
       "      <td>7.76890</td>\n",
       "    </tr>\n",
       "    <tr>\n",
       "      <th>524</th>\n",
       "      <td>Finland</td>\n",
       "      <td>FIN</td>\n",
       "      <td>2023</td>\n",
       "      <td>7.74070</td>\n",
       "    </tr>\n",
       "    <tr>\n",
       "      <th>424</th>\n",
       "      <td>Denmark</td>\n",
       "      <td>DNK</td>\n",
       "      <td>2019</td>\n",
       "      <td>7.64560</td>\n",
       "    </tr>\n",
       "    <tr>\n",
       "      <th>426</th>\n",
       "      <td>Denmark</td>\n",
       "      <td>DNK</td>\n",
       "      <td>2021</td>\n",
       "      <td>7.63620</td>\n",
       "    </tr>\n",
       "    <tr>\n",
       "      <th>518</th>\n",
       "      <td>Finland</td>\n",
       "      <td>FIN</td>\n",
       "      <td>2017</td>\n",
       "      <td>7.63210</td>\n",
       "    </tr>\n",
       "  </tbody>\n",
       "</table>\n",
       "</div>"
      ],
      "text/plain": [
       "      Gebiet Code  Jahr  Cantril ladder score\n",
       "418  Denmark  DNK  2011               7.85574\n",
       "521  Finland  FIN  2020               7.84210\n",
       "522  Finland  FIN  2021               7.82100\n",
       "520  Finland  FIN  2019               7.80870\n",
       "523  Finland  FIN  2022               7.80420\n",
       "519  Finland  FIN  2018               7.76890\n",
       "524  Finland  FIN  2023               7.74070\n",
       "424  Denmark  DNK  2019               7.64560\n",
       "426  Denmark  DNK  2021               7.63620\n",
       "518  Finland  FIN  2017               7.63210"
      ]
     },
     "execution_count": 12,
     "metadata": {},
     "output_type": "execute_result"
    }
   ],
   "source": [
    "df.sort_values(by='Cantril ladder score', ascending=False).head(10)"
   ]
  },
  {
   "cell_type": "code",
   "execution_count": 31,
   "id": "b6dd7a7e",
   "metadata": {},
   "outputs": [
    {
     "ename": "NameError",
     "evalue": "name 'score_data' is not defined",
     "output_type": "error",
     "traceback": [
      "\u001b[0;31m---------------------------------------------------------------------------\u001b[0m",
      "\u001b[0;31mNameError\u001b[0m                                 Traceback (most recent call last)",
      "Cell \u001b[0;32mIn[31], line 2\u001b[0m\n\u001b[1;32m      1\u001b[0m plt\u001b[38;5;241m.\u001b[39mfigure(figsize\u001b[38;5;241m=\u001b[39m(\u001b[38;5;241m6\u001b[39m, \u001b[38;5;241m8\u001b[39m))\n\u001b[0;32m----> 2\u001b[0m sns\u001b[38;5;241m.\u001b[39mboxplot(data\u001b[38;5;241m=\u001b[39m[score_data],width\u001b[38;5;241m=\u001b[39m\u001b[38;5;241m0.5\u001b[39m,color\u001b[38;5;241m=\u001b[39m\u001b[38;5;124m\"\u001b[39m\u001b[38;5;124mskyblue\u001b[39m\u001b[38;5;124m\"\u001b[39m,showmeans\u001b[38;5;241m=\u001b[39m\u001b[38;5;28;01mTrue\u001b[39;00m,meanprops\u001b[38;5;241m=\u001b[39m{\u001b[38;5;124m\"\u001b[39m\u001b[38;5;124mmarker\u001b[39m\u001b[38;5;124m\"\u001b[39m: \u001b[38;5;124m\"\u001b[39m\u001b[38;5;124mo\u001b[39m\u001b[38;5;124m\"\u001b[39m, \u001b[38;5;124m\"\u001b[39m\u001b[38;5;124mmarkerfacecolor\u001b[39m\u001b[38;5;124m\"\u001b[39m: \u001b[38;5;124m\"\u001b[39m\u001b[38;5;124mred\u001b[39m\u001b[38;5;124m\"\u001b[39m, \u001b[38;5;124m\"\u001b[39m\u001b[38;5;124mmarkeredgecolor\u001b[39m\u001b[38;5;124m\"\u001b[39m: \u001b[38;5;124m\"\u001b[39m\u001b[38;5;124mblack\u001b[39m\u001b[38;5;124m\"\u001b[39m, \u001b[38;5;124m\"\u001b[39m\u001b[38;5;124mmarkersize\u001b[39m\u001b[38;5;124m\"\u001b[39m: \u001b[38;5;241m8\u001b[39m},whis\u001b[38;5;241m=\u001b[39m[\u001b[38;5;241m0\u001b[39m, \u001b[38;5;241m100\u001b[39m] )\n\u001b[1;32m      4\u001b[0m plt\u001b[38;5;241m.\u001b[39mtitle(\u001b[38;5;124m\"\u001b[39m\u001b[38;5;124mBoxplot: Cantril Ladder Score\u001b[39m\u001b[38;5;124m\"\u001b[39m, fontsize\u001b[38;5;241m=\u001b[39m\u001b[38;5;241m16\u001b[39m)\n\u001b[1;32m      5\u001b[0m plt\u001b[38;5;241m.\u001b[39mylabel(\u001b[38;5;124m\"\u001b[39m\u001b[38;5;124mCantril Ladder Score\u001b[39m\u001b[38;5;124m\"\u001b[39m)\n",
      "\u001b[0;31mNameError\u001b[0m: name 'score_data' is not defined"
     ]
    },
    {
     "data": {
      "text/plain": [
       "<Figure size 600x800 with 0 Axes>"
      ]
     },
     "metadata": {},
     "output_type": "display_data"
    }
   ],
   "source": [
    "plt.figure(figsize=(6, 8))\n",
    "sns.boxplot(data=[score_data],width=0.5,color=\"skyblue\",showmeans=True,meanprops={\"marker\": \"o\", \"markerfacecolor\": \"red\", \"markeredgecolor\": \"black\", \"markersize\": 8},whis=[0, 100] )\n",
    "\n",
    "plt.title(\"Boxplot: Cantril Ladder Score\", fontsize=16)\n",
    "plt.ylabel(\"Cantril Ladder Score\")\n",
    "plt.xticks([]) \n",
    "\n",
    "plt.show()"
   ]
  },
  {
   "cell_type": "code",
   "execution_count": 23,
   "id": "f7662fb6",
   "metadata": {},
   "outputs": [
    {
     "data": {
      "text/plain": [
       "<matplotlib.legend.Legend at 0x255d53432c0>"
      ]
     },
     "execution_count": 23,
     "metadata": {},
     "output_type": "execute_result"
    },
    {
     "data": {
      "image/png": "[encoded data removed]",
      "text/plain": [
       "<Figure size 640x480 with 1 Axes>"
      ]
     },
     "metadata": {},
     "output_type": "display_data"
    }
   ],
   "source": [
    "\n",
    "g = df['Cantril ladder score'].plot(kind='hist', bins=20, title='Histogramm Cantril ladder score', \n",
    "                           xlabel='Cantril ladder score', ylabel='Anzahl Datenpunkte')\n",
    "mean = df['Cantril ladder score'].mean()\n",
    "g.axvline(x=df['Cantril ladder score'].mean(), color='red',label=f'Mittelwert = {mean:.2f}')  \n",
    "\n",
    "\n",
    "median = df['Cantril ladder score'].median()\n",
    "g.axvline(x=df['Cantril ladder score'].median(), color='orange',label=  f'Median = {median:.2f}')  \n",
    "\n",
    "g.legend()\n"
   ]
  },
  {
   "cell_type": "markdown",
   "id": "63b4c69d",
   "metadata": {},
   "source": [
    "## 4. Analyse ##"
   ]
  },
  {
   "cell_type": "code",
   "execution_count": 45,
   "id": "5925d16c",
   "metadata": {},
   "outputs": [
    {
     "ename": "NameError",
     "evalue": "name 'df_pivot' is not defined",
     "output_type": "error",
     "traceback": [
      "\u001b[0;31m---------------------------------------------------------------------------\u001b[0m",
      "\u001b[0;31mNameError\u001b[0m                                 Traceback (most recent call last)",
      "Cell \u001b[0;32mIn[45], line 1\u001b[0m\n\u001b[0;32m----> 1\u001b[0m diffs \u001b[38;5;241m=\u001b[39m df_pivot[\u001b[38;5;241m2023\u001b[39m]\u001b[38;5;241m-\u001b[39mdf_pivot[\u001b[38;5;241m2014\u001b[39m]   \n\u001b[1;32m      2\u001b[0m diffs \u001b[38;5;241m=\u001b[39m diffs\u001b[38;5;241m.\u001b[39msort_values()\u001b[38;5;241m.\u001b[39mdropna()  \n\u001b[1;32m      3\u001b[0m diffs\n",
      "\u001b[0;31mNameError\u001b[0m: name 'df_pivot' is not defined"
     ]
    }
   ],
   "source": [
    "diffs = df_pivot[2023]-df_pivot[2014]   \n",
    "diffs = diffs.sort_values().dropna()  \n",
    "diffs"
   ]
  },
  {
   "cell_type": "code",
   "execution_count": 46,
   "id": "9f51ec4b",
   "metadata": {},
   "outputs": [
    {
     "ename": "NameError",
     "evalue": "name 'diffs' is not defined",
     "output_type": "error",
     "traceback": [
      "\u001b[0;31m---------------------------------------------------------------------------\u001b[0m",
      "\u001b[0;31mNameError\u001b[0m                                 Traceback (most recent call last)",
      "Cell \u001b[0;32mIn[46], line 1\u001b[0m\n\u001b[0;32m----> 1\u001b[0m diff_sel \u001b[38;5;241m=\u001b[39m (diffs \u001b[38;5;241m<\u001b[39m \u001b[38;5;241m-\u001b[39m\u001b[38;5;241m1\u001b[39m) \u001b[38;5;241m|\u001b[39m (diffs \u001b[38;5;241m>\u001b[39m \u001b[38;5;241m1\u001b[39m) \n\u001b[1;32m      2\u001b[0m diffs[diff_sel]\u001b[38;5;241m.\u001b[39mplot(kind\u001b[38;5;241m=\u001b[39m\u001b[38;5;124m'\u001b[39m\u001b[38;5;124mbarh\u001b[39m\u001b[38;5;124m'\u001b[39m, title\u001b[38;5;241m=\u001b[39m\u001b[38;5;124m'\u001b[39m\u001b[38;5;124mGrösste und kleinste Differenzen des Cantril ladder score 2011-2020\u001b[39m\u001b[38;5;124m'\u001b[39m)\n",
      "\u001b[0;31mNameError\u001b[0m: name 'diffs' is not defined"
     ]
    }
   ],
   "source": [
    "diff_sel = (diffs < -1) | (diffs > 1) \n",
    "diffs[diff_sel].plot(kind='barh', title='Grösste und kleinste Differenzen des Cantril ladder score 2011-2020')"
   ]
  },
  {
   "cell_type": "code",
   "execution_count": 39,
   "id": "51d1dae9",
   "metadata": {},
   "outputs": [
    {
     "ename": "NameError",
     "evalue": "name 'diffs' is not defined",
     "output_type": "error",
     "traceback": [
      "\u001b[0;31m---------------------------------------------------------------------------\u001b[0m",
      "\u001b[0;31mNameError\u001b[0m                                 Traceback (most recent call last)",
      "Cell \u001b[0;32mIn[39], line 1\u001b[0m\n\u001b[0;32m----> 1\u001b[0m Gebiets_liste \u001b[38;5;241m=\u001b[39m diffs[diff_sel]\u001b[38;5;241m.\u001b[39mindex\u001b[38;5;241m.\u001b[39mtolist()  \n\u001b[1;32m      2\u001b[0m \u001b[38;5;28mprint\u001b[39m(Gebiets_liste)\n",
      "\u001b[0;31mNameError\u001b[0m: name 'diffs' is not defined"
     ]
    }
   ],
   "source": [
    "Gebiets_liste = diffs[diff_sel].index.tolist()  \n",
    "print(Gebiets_liste)"
   ]
  },
  {
   "cell_type": "code",
   "execution_count": 27,
   "id": "392f1d43",
   "metadata": {},
   "outputs": [
    {
     "name": "stdout",
     "output_type": "stream",
     "text": [
      "Der höchste Cantril ladder score ist 7.85574 und kommt aus den Gebieten: ['Denmark']\n",
      "Der niedrigste Cantril ladder score ist 1.721 und kommt aus den Gebieten: ['Afghanistan']\n"
     ]
    }
   ],
   "source": [
    "max_score = df['Cantril ladder score'].max()\n",
    "min_score = df['Cantril ladder score'].min()\n",
    "max_score_gebiet = df[df['Cantril ladder score'] == max_score]['Gebiet']\n",
    "min_score_gebiet = df[df['Cantril ladder score'] == min_score]['Gebiet']\n",
    "\n",
    "\n",
    "print(f\"Der höchste Cantril ladder score ist {max_score} und kommt aus den Gebieten: {max_score_gebiet.tolist()}\")\n",
    "print(f\"Der niedrigste Cantril ladder score ist {min_score} und kommt aus den Gebieten: {min_score_gebiet.tolist()}\")"
   ]
  },
  {
   "cell_type": "code",
   "execution_count": 57,
   "id": "3a13eaca",
   "metadata": {},
   "outputs": [],
   "source": [
    "import pandas as pd\n",
    "import seaborn as sns\n",
    "from matplotlib import pyplot as plt"
   ]
  },
  {
   "cell_type": "code",
   "execution_count": 64,
   "id": "0c9f81af",
   "metadata": {},
   "outputs": [
    {
     "data": {
      "text/html": [
       "<div>\n",
       "<style scoped>\n",
       "    .dataframe tbody tr th:only-of-type {\n",
       "        vertical-align: middle;\n",
       "    }\n",
       "\n",
       "    .dataframe tbody tr th {\n",
       "        vertical-align: top;\n",
       "    }\n",
       "\n",
       "    .dataframe thead th {\n",
       "        text-align: right;\n",
       "    }\n",
       "</style>\n",
       "<table border=\"1\" class=\"dataframe\">\n",
       "  <thead>\n",
       "    <tr style=\"text-align: right;\">\n",
       "      <th></th>\n",
       "      <th>Entity</th>\n",
       "      <th>Code</th>\n",
       "      <th>Year absolut</th>\n",
       "      <th>Life expectancy</th>\n",
       "      <th>Cantril ladder score</th>\n",
       "      <th>Population</th>\n",
       "      <th>Gebiet</th>\n",
       "      <th>Year</th>\n",
       "      <th>Endyear</th>\n",
       "    </tr>\n",
       "  </thead>\n",
       "  <tbody>\n",
       "    <tr>\n",
       "      <th>0</th>\n",
       "      <td>Afghanistan</td>\n",
       "      <td>AFG</td>\n",
       "      <td>2011.0</td>\n",
       "      <td>61.250</td>\n",
       "      <td>4.25835</td>\n",
       "      <td>29347709.0</td>\n",
       "      <td>Asia</td>\n",
       "      <td>2011</td>\n",
       "      <td>2023</td>\n",
       "    </tr>\n",
       "    <tr>\n",
       "      <th>1</th>\n",
       "      <td>Afghanistan</td>\n",
       "      <td>AFG</td>\n",
       "      <td>2012.0</td>\n",
       "      <td>61.735</td>\n",
       "      <td>NaN</td>\n",
       "      <td>30560036.0</td>\n",
       "      <td>Asia</td>\n",
       "      <td>2012</td>\n",
       "      <td>2023</td>\n",
       "    </tr>\n",
       "    <tr>\n",
       "      <th>2</th>\n",
       "      <td>Afghanistan</td>\n",
       "      <td>AFG</td>\n",
       "      <td>2013.0</td>\n",
       "      <td>62.188</td>\n",
       "      <td>NaN</td>\n",
       "      <td>31622708.0</td>\n",
       "      <td>Asia</td>\n",
       "      <td>2013</td>\n",
       "      <td>2023</td>\n",
       "    </tr>\n",
       "    <tr>\n",
       "      <th>3</th>\n",
       "      <td>Afghanistan</td>\n",
       "      <td>AFG</td>\n",
       "      <td>2014.0</td>\n",
       "      <td>62.260</td>\n",
       "      <td>3.57500</td>\n",
       "      <td>32792527.0</td>\n",
       "      <td>Asia</td>\n",
       "      <td>2014</td>\n",
       "      <td>2023</td>\n",
       "    </tr>\n",
       "    <tr>\n",
       "      <th>4</th>\n",
       "      <td>Afghanistan</td>\n",
       "      <td>AFG</td>\n",
       "      <td>2015.0</td>\n",
       "      <td>62.270</td>\n",
       "      <td>3.36000</td>\n",
       "      <td>33831765.0</td>\n",
       "      <td>Asia</td>\n",
       "      <td>2015</td>\n",
       "      <td>2023</td>\n",
       "    </tr>\n",
       "  </tbody>\n",
       "</table>\n",
       "</div>"
      ],
      "text/plain": [
       "        Entity Code  Year absolut  Life expectancy  Cantril ladder score  \\\n",
       "0  Afghanistan  AFG        2011.0           61.250               4.25835   \n",
       "1  Afghanistan  AFG        2012.0           61.735                   NaN   \n",
       "2  Afghanistan  AFG        2013.0           62.188                   NaN   \n",
       "3  Afghanistan  AFG        2014.0           62.260               3.57500   \n",
       "4  Afghanistan  AFG        2015.0           62.270               3.36000   \n",
       "\n",
       "   Population Gebiet  Year  Endyear  \n",
       "0  29347709.0   Asia  2011     2023  \n",
       "1  30560036.0   Asia  2012     2023  \n",
       "2  31622708.0   Asia  2013     2023  \n",
       "3  32792527.0   Asia  2014     2023  \n",
       "4  33831765.0   Asia  2015     2023  "
      ]
     },
     "execution_count": 64,
     "metadata": {},
     "output_type": "execute_result"
    }
   ],
   "source": [
    "import pandas as pd\n",
    "df = pd.read_csv('life-satisfaction-vs-life-expectancy.filtered.csv.',skiprows=1,\n",
    "                 names=['Entity','Code','Year absolut','Life expectancy','Cantril ladder score','Population','Gebiet','Year','Endyear']) \n",
    "\n",
    "df.head()"
   ]
  },
  {
   "cell_type": "code",
   "execution_count": 65,
   "id": "2645d885",
   "metadata": {},
   "outputs": [
    {
     "data": {
      "text/html": [
       "<div>\n",
       "<style scoped>\n",
       "    .dataframe tbody tr th:only-of-type {\n",
       "        vertical-align: middle;\n",
       "    }\n",
       "\n",
       "    .dataframe tbody tr th {\n",
       "        vertical-align: top;\n",
       "    }\n",
       "\n",
       "    .dataframe thead th {\n",
       "        text-align: right;\n",
       "    }\n",
       "</style>\n",
       "<table border=\"1\" class=\"dataframe\">\n",
       "  <thead>\n",
       "    <tr style=\"text-align: right;\">\n",
       "      <th></th>\n",
       "      <th>Entity</th>\n",
       "      <th>Code</th>\n",
       "      <th>Life expectancy</th>\n",
       "      <th>Cantril ladder score</th>\n",
       "      <th>Gebiet</th>\n",
       "      <th>Year</th>\n",
       "    </tr>\n",
       "  </thead>\n",
       "  <tbody>\n",
       "    <tr>\n",
       "      <th>0</th>\n",
       "      <td>Afghanistan</td>\n",
       "      <td>AFG</td>\n",
       "      <td>61.250</td>\n",
       "      <td>4.25835</td>\n",
       "      <td>Asia</td>\n",
       "      <td>2011</td>\n",
       "    </tr>\n",
       "    <tr>\n",
       "      <th>1</th>\n",
       "      <td>Afghanistan</td>\n",
       "      <td>AFG</td>\n",
       "      <td>61.735</td>\n",
       "      <td>NaN</td>\n",
       "      <td>Asia</td>\n",
       "      <td>2012</td>\n",
       "    </tr>\n",
       "    <tr>\n",
       "      <th>2</th>\n",
       "      <td>Afghanistan</td>\n",
       "      <td>AFG</td>\n",
       "      <td>62.188</td>\n",
       "      <td>NaN</td>\n",
       "      <td>Asia</td>\n",
       "      <td>2013</td>\n",
       "    </tr>\n",
       "    <tr>\n",
       "      <th>3</th>\n",
       "      <td>Afghanistan</td>\n",
       "      <td>AFG</td>\n",
       "      <td>62.260</td>\n",
       "      <td>3.57500</td>\n",
       "      <td>Asia</td>\n",
       "      <td>2014</td>\n",
       "    </tr>\n",
       "    <tr>\n",
       "      <th>4</th>\n",
       "      <td>Afghanistan</td>\n",
       "      <td>AFG</td>\n",
       "      <td>62.270</td>\n",
       "      <td>3.36000</td>\n",
       "      <td>Asia</td>\n",
       "      <td>2015</td>\n",
       "    </tr>\n",
       "  </tbody>\n",
       "</table>\n",
       "</div>"
      ],
      "text/plain": [
       "        Entity Code  Life expectancy  Cantril ladder score Gebiet  Year\n",
       "0  Afghanistan  AFG           61.250               4.25835   Asia  2011\n",
       "1  Afghanistan  AFG           61.735                   NaN   Asia  2012\n",
       "2  Afghanistan  AFG           62.188                   NaN   Asia  2013\n",
       "3  Afghanistan  AFG           62.260               3.57500   Asia  2014\n",
       "4  Afghanistan  AFG           62.270               3.36000   Asia  2015"
      ]
     },
     "execution_count": 65,
     "metadata": {},
     "output_type": "execute_result"
    }
   ],
   "source": [
    "df = df.drop(columns=['Year absolut', 'Population', 'Endyear'])\n",
    "\n",
    "df.head()"
   ]
  },
  {
   "cell_type": "code",
   "execution_count": null,
   "id": "86b5b18e",
   "metadata": {},
   "outputs": [],
   "source": []
  }
 ],
 "metadata": {
  "kernelspec": {
   "display_name": "base",
   "language": "python",
   "name": "python3"
  },
  "language_info": {
   "codemirror_mode": {
    "name": "ipython",
    "version": 3
   },
   "file_extension": ".py",
   "mimetype": "text/x-python",
   "name": "python",
   "nbconvert_exporter": "python",
   "pygments_lexer": "ipython3",
   "version": "3.12.4"
  }
 },
 "nbformat": 4,
 "nbformat_minor": 5
}
