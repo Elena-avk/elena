{
 "cells": [
  {
   "cell_type": "markdown",
   "id": "2341b96f",
   "metadata": {},
   "source": [
    "# Grundgerüst Leistungsausweis\n",
    "Dieses Notebook soll euch als Grundgerüst für euren Leistungsnachweis dienen. Es soll euch eine Idee/ Hilfestellung bieten, wie man einen neuen Datensatz, basierend auf einer Fragestellung, strukturiert analysieren und interpretieren kann. Wie besagt, dient das Notebook als Hilfestellung, ist jedoch keinenfalls vollständig ausgeschöpft. In diesem Sinne dürft ihr auch gerne Sachen miteinbeziehen, welche hier nicht genannt werden. \n",
    "\n",
    "-> Bitte schreibt die Antwort zu den jeweiligen Punkten an oberster Stelle unterhalb der Titel (so wie dies auch im Leistungsnachweisbeispiel gemacht wurde).\n",
    "\n",
    "\n",
    "## Struktur\n",
    "1. Fragestellung(en) und Datenbeschaffung\n",
    "2. Daten laden\n",
    "3. Daten vorbereiten\n",
    "4. Statistik der Rohdaten (Generell im Longformat)\n",
    "5. Analyse der Daten\n",
    "\n",
    "**Wichtig:** Alle graphischen Darstellungen sollten mindestens *Titel, Ticks- und Achsenbeschriftung* beinhalten (Siehe plots im Leistungsnachweisbeispiel)\n",
    "\n",
    "---"
   ]
  },
  {
   "cell_type": "markdown",
   "id": "f9e9bf68",
   "metadata": {},
   "source": [
    "## 1. Fragestellung(en) und Datenbeschaffung\n",
    "### 1.1 Titel: \n",
    "- Self-reported life satisfaction, 2011 to 2023 \n",
    "### 1.2 Fragestellung:\n",
    "- Welches Land hat die höchste/niedriegste Lebenszufriedenheit? Was sind die Gründe dafür? \n",
    "### 1.3 Datenquelle(n):\n",
    "Beispiele für mögliche Datenquellen:\n",
    "- https://ourworldindata.org\n",
    "- https://healthdata.gov/\n",
    "- https://www.who.int/data/collections\n",
    "- https://www.kaggle.com/datasets?tags=4202-Healthcare\n",
    "\n",
    "\n"
   ]
  },
  {
   "cell_type": "markdown",
   "metadata": {},
   "source": [
    "### 1.4 Daten beschaffen und laden"
   ]
  },
  {
   "cell_type": "code",
   "execution_count": 1,
   "id": "a27050af",
   "metadata": {},
   "outputs": [],
   "source": [
    "# lade deine Bibliotheken -> Pandas, Seaborn, Matplotlib sind die wichtigsten für diese Aufgaben\n",
    "\n",
    "import pandas as pd\n",
    "import seaborn as sns\n",
    "from matplotlib import pyplot as plt"
   ]
  },
  {
   "cell_type": "code",
   "execution_count": 8,
   "id": "47a24830",
   "metadata": {},
   "outputs": [],
   "source": [
    "import pandas as pd\n",
    "from matplotlib import pyplot as plt  \n"
   ]
  },
  {
   "cell_type": "code",
   "execution_count": 12,
   "id": "18941208",
   "metadata": {},
   "outputs": [
    {
     "data": {
      "text/html": [
       "<div>\n",
       "<style scoped>\n",
       "    .dataframe tbody tr th:only-of-type {\n",
       "        vertical-align: middle;\n",
       "    }\n",
       "\n",
       "    .dataframe tbody tr th {\n",
       "        vertical-align: top;\n",
       "    }\n",
       "\n",
       "    .dataframe thead th {\n",
       "        text-align: right;\n",
       "    }\n",
       "</style>\n",
       "<table border=\"1\" class=\"dataframe\">\n",
       "  <thead>\n",
       "    <tr style=\"text-align: right;\">\n",
       "      <th></th>\n",
       "      <th>Gebiet</th>\n",
       "      <th>Code</th>\n",
       "      <th>Jahr</th>\n",
       "      <th>score</th>\n",
       "    </tr>\n",
       "  </thead>\n",
       "  <tbody>\n",
       "    <tr>\n",
       "      <th>0</th>\n",
       "      <td>Afghanistan</td>\n",
       "      <td>AFG</td>\n",
       "      <td>2011</td>\n",
       "      <td>4.25835</td>\n",
       "    </tr>\n",
       "    <tr>\n",
       "      <th>1</th>\n",
       "      <td>Afghanistan</td>\n",
       "      <td>AFG</td>\n",
       "      <td>2014</td>\n",
       "      <td>3.57500</td>\n",
       "    </tr>\n",
       "    <tr>\n",
       "      <th>2</th>\n",
       "      <td>Afghanistan</td>\n",
       "      <td>AFG</td>\n",
       "      <td>2015</td>\n",
       "      <td>3.36000</td>\n",
       "    </tr>\n",
       "    <tr>\n",
       "      <th>3</th>\n",
       "      <td>Afghanistan</td>\n",
       "      <td>AFG</td>\n",
       "      <td>2016</td>\n",
       "      <td>3.79400</td>\n",
       "    </tr>\n",
       "    <tr>\n",
       "      <th>4</th>\n",
       "      <td>Afghanistan</td>\n",
       "      <td>AFG</td>\n",
       "      <td>2017</td>\n",
       "      <td>3.63150</td>\n",
       "    </tr>\n",
       "  </tbody>\n",
       "</table>\n",
       "</div>"
      ],
      "text/plain": [
       "        Gebiet Code  Jahr    score\n",
       "0  Afghanistan  AFG  2011  4.25835\n",
       "1  Afghanistan  AFG  2014  3.57500\n",
       "2  Afghanistan  AFG  2015  3.36000\n",
       "3  Afghanistan  AFG  2016  3.79400\n",
       "4  Afghanistan  AFG  2017  3.63150"
      ]
     },
     "execution_count": 12,
     "metadata": {},
     "output_type": "execute_result"
    }
   ],
   "source": [
    "df = pd.read_csv('happiness-cantril-ladder.csv', skiprows=1,\n",
    "                 names=['Gebiet','Code','Jahr','score']) \n",
    "df.head()"
   ]
  },
  {
   "cell_type": "markdown",
   "id": "25d1e798",
   "metadata": {},
   "source": [
    "## 2. Daten vorbereiten \n",
    "- Welches Format hat mein Datensatz bzw. wie sind meine Kolumnen strukturiert?\n",
    "- Welches Format kann ich für welche Teilschritte verwenden (wann soll ich pivot bzw. wide format verwenden)?\n",
    "- Welche Datentypen kommen in meinem Datensatz vor?"
   ]
  },
  {
   "cell_type": "code",
   "execution_count": 3,
   "id": "7f4fefb8",
   "metadata": {},
   "outputs": [
    {
     "data": {
      "text/html": [
       "<div>\n",
       "<style scoped>\n",
       "    .dataframe tbody tr th:only-of-type {\n",
       "        vertical-align: middle;\n",
       "    }\n",
       "\n",
       "    .dataframe tbody tr th {\n",
       "        vertical-align: top;\n",
       "    }\n",
       "\n",
       "    .dataframe thead th {\n",
       "        text-align: right;\n",
       "    }\n",
       "</style>\n",
       "<table border=\"1\" class=\"dataframe\">\n",
       "  <thead>\n",
       "    <tr style=\"text-align: right;\">\n",
       "      <th>Jahr</th>\n",
       "      <th>2011</th>\n",
       "      <th>2014</th>\n",
       "      <th>2015</th>\n",
       "      <th>2016</th>\n",
       "      <th>2017</th>\n",
       "      <th>2018</th>\n",
       "      <th>2019</th>\n",
       "      <th>2020</th>\n",
       "      <th>2021</th>\n",
       "      <th>2022</th>\n",
       "      <th>2023</th>\n",
       "    </tr>\n",
       "    <tr>\n",
       "      <th>Gebiet</th>\n",
       "      <th></th>\n",
       "      <th></th>\n",
       "      <th></th>\n",
       "      <th></th>\n",
       "      <th></th>\n",
       "      <th></th>\n",
       "      <th></th>\n",
       "      <th></th>\n",
       "      <th></th>\n",
       "      <th></th>\n",
       "      <th></th>\n",
       "    </tr>\n",
       "  </thead>\n",
       "  <tbody>\n",
       "    <tr>\n",
       "      <th>Afghanistan</th>\n",
       "      <td>4.258350</td>\n",
       "      <td>3.575000</td>\n",
       "      <td>3.360000</td>\n",
       "      <td>3.794000</td>\n",
       "      <td>3.631500</td>\n",
       "      <td>3.203300</td>\n",
       "      <td>2.566900</td>\n",
       "      <td>2.522900</td>\n",
       "      <td>2.403800</td>\n",
       "      <td>1.859000</td>\n",
       "      <td>1.721000</td>\n",
       "    </tr>\n",
       "    <tr>\n",
       "      <th>Africa</th>\n",
       "      <td>4.453107</td>\n",
       "      <td>4.474157</td>\n",
       "      <td>4.395968</td>\n",
       "      <td>4.457408</td>\n",
       "      <td>4.445971</td>\n",
       "      <td>4.511974</td>\n",
       "      <td>4.459995</td>\n",
       "      <td>4.551006</td>\n",
       "      <td>4.517288</td>\n",
       "      <td>4.426524</td>\n",
       "      <td>4.384616</td>\n",
       "    </tr>\n",
       "    <tr>\n",
       "      <th>Albania</th>\n",
       "      <td>5.133704</td>\n",
       "      <td>4.959000</td>\n",
       "      <td>4.655000</td>\n",
       "      <td>4.644000</td>\n",
       "      <td>4.586000</td>\n",
       "      <td>4.718600</td>\n",
       "      <td>4.882700</td>\n",
       "      <td>5.117400</td>\n",
       "      <td>5.198800</td>\n",
       "      <td>5.277300</td>\n",
       "      <td>5.304200</td>\n",
       "    </tr>\n",
       "    <tr>\n",
       "      <th>Algeria</th>\n",
       "      <td>5.367827</td>\n",
       "      <td>5.605000</td>\n",
       "      <td>6.355000</td>\n",
       "      <td>5.872000</td>\n",
       "      <td>5.294600</td>\n",
       "      <td>5.211300</td>\n",
       "      <td>5.005100</td>\n",
       "      <td>4.887100</td>\n",
       "      <td>5.122300</td>\n",
       "      <td>5.329100</td>\n",
       "      <td>5.363500</td>\n",
       "    </tr>\n",
       "    <tr>\n",
       "      <th>Angola</th>\n",
       "      <td>4.178380</td>\n",
       "      <td>4.033000</td>\n",
       "      <td>3.866000</td>\n",
       "      <td>3.795000</td>\n",
       "      <td>3.794800</td>\n",
       "      <td>NaN</td>\n",
       "      <td>NaN</td>\n",
       "      <td>NaN</td>\n",
       "      <td>NaN</td>\n",
       "      <td>NaN</td>\n",
       "      <td>NaN</td>\n",
       "    </tr>\n",
       "  </tbody>\n",
       "</table>\n",
       "</div>"
      ],
      "text/plain": [
       "Jahr             2011      2014      2015      2016      2017      2018  \\\n",
       "Gebiet                                                                    \n",
       "Afghanistan  4.258350  3.575000  3.360000  3.794000  3.631500  3.203300   \n",
       "Africa       4.453107  4.474157  4.395968  4.457408  4.445971  4.511974   \n",
       "Albania      5.133704  4.959000  4.655000  4.644000  4.586000  4.718600   \n",
       "Algeria      5.367827  5.605000  6.355000  5.872000  5.294600  5.211300   \n",
       "Angola       4.178380  4.033000  3.866000  3.795000  3.794800       NaN   \n",
       "\n",
       "Jahr             2019      2020      2021      2022      2023  \n",
       "Gebiet                                                         \n",
       "Afghanistan  2.566900  2.522900  2.403800  1.859000  1.721000  \n",
       "Africa       4.459995  4.551006  4.517288  4.426524  4.384616  \n",
       "Albania      4.882700  5.117400  5.198800  5.277300  5.304200  \n",
       "Algeria      5.005100  4.887100  5.122300  5.329100  5.363500  \n",
       "Angola            NaN       NaN       NaN       NaN       NaN  "
      ]
     },
     "execution_count": 3,
     "metadata": {},
     "output_type": "execute_result"
    }
   ],
   "source": [
    "df_pivot = df.pivot(index='Gebiet', columns='Jahr', values='score')\n",
    "df_pivot.head()"
   ]
  },
  {
   "cell_type": "markdown",
   "id": "28195847",
   "metadata": {},
   "source": [
    "## 3. Statistik der Rohdaten (Analyse im Long-Format)\n",
    "- Ist meine Variable kontinuierlich oder diskret? Falls diskret, wieviele einzigartige Klassen gibt es? Wieviele Datenpunkte pro Klasse sind vorhanden?\n",
    "- Anzahl Datenpunkte (Beschreibend und Graphische Darstellung)\n",
    "    - Wieviele Datenpunkte sind für die bestimmten Variabeln vorhanden?\n",
    "    - Wo fehlen Datenpunkte?\n",
    "- Wie ist die Verteilung der zu untersuchenden Variabel(n) (Histogram, Boxplot, Säulendiagram)\n",
    "- Vermutest du Zusammenhänge zwischen zwei Variabeln (Streuungsdiagramm, Korrelationsmatrix)\n",
    "\n",
    "*Notiz: Zu jeder Kolumne sollte generell eine Aussage möglich sein.*"
   ]
  },
  {
   "cell_type": "code",
   "execution_count": 6,
   "id": "6db8081e",
   "metadata": {},
   "outputs": [
    {
     "data": {
      "text/html": [
       "<div>\n",
       "<style scoped>\n",
       "    .dataframe tbody tr th:only-of-type {\n",
       "        vertical-align: middle;\n",
       "    }\n",
       "\n",
       "    .dataframe tbody tr th {\n",
       "        vertical-align: top;\n",
       "    }\n",
       "\n",
       "    .dataframe thead th {\n",
       "        text-align: right;\n",
       "    }\n",
       "</style>\n",
       "<table border=\"1\" class=\"dataframe\">\n",
       "  <thead>\n",
       "    <tr style=\"text-align: right;\">\n",
       "      <th></th>\n",
       "      <th>Gebiet</th>\n",
       "      <th>Code</th>\n",
       "      <th>Jahr</th>\n",
       "      <th>score</th>\n",
       "    </tr>\n",
       "  </thead>\n",
       "  <tbody>\n",
       "    <tr>\n",
       "      <th>0</th>\n",
       "      <td>Afghanistan</td>\n",
       "      <td>AFG</td>\n",
       "      <td>2011</td>\n",
       "      <td>4.25835</td>\n",
       "    </tr>\n",
       "    <tr>\n",
       "      <th>1</th>\n",
       "      <td>Afghanistan</td>\n",
       "      <td>AFG</td>\n",
       "      <td>2014</td>\n",
       "      <td>3.57500</td>\n",
       "    </tr>\n",
       "    <tr>\n",
       "      <th>2</th>\n",
       "      <td>Afghanistan</td>\n",
       "      <td>AFG</td>\n",
       "      <td>2015</td>\n",
       "      <td>3.36000</td>\n",
       "    </tr>\n",
       "    <tr>\n",
       "      <th>3</th>\n",
       "      <td>Afghanistan</td>\n",
       "      <td>AFG</td>\n",
       "      <td>2016</td>\n",
       "      <td>3.79400</td>\n",
       "    </tr>\n",
       "    <tr>\n",
       "      <th>4</th>\n",
       "      <td>Afghanistan</td>\n",
       "      <td>AFG</td>\n",
       "      <td>2017</td>\n",
       "      <td>3.63150</td>\n",
       "    </tr>\n",
       "    <tr>\n",
       "      <th>...</th>\n",
       "      <td>...</td>\n",
       "      <td>...</td>\n",
       "      <td>...</td>\n",
       "      <td>...</td>\n",
       "    </tr>\n",
       "    <tr>\n",
       "      <th>1782</th>\n",
       "      <td>Zimbabwe</td>\n",
       "      <td>ZWE</td>\n",
       "      <td>2019</td>\n",
       "      <td>3.29920</td>\n",
       "    </tr>\n",
       "    <tr>\n",
       "      <th>1783</th>\n",
       "      <td>Zimbabwe</td>\n",
       "      <td>ZWE</td>\n",
       "      <td>2020</td>\n",
       "      <td>3.14480</td>\n",
       "    </tr>\n",
       "    <tr>\n",
       "      <th>1784</th>\n",
       "      <td>Zimbabwe</td>\n",
       "      <td>ZWE</td>\n",
       "      <td>2021</td>\n",
       "      <td>2.99510</td>\n",
       "    </tr>\n",
       "    <tr>\n",
       "      <th>1785</th>\n",
       "      <td>Zimbabwe</td>\n",
       "      <td>ZWE</td>\n",
       "      <td>2022</td>\n",
       "      <td>3.20350</td>\n",
       "    </tr>\n",
       "    <tr>\n",
       "      <th>1786</th>\n",
       "      <td>Zimbabwe</td>\n",
       "      <td>ZWE</td>\n",
       "      <td>2023</td>\n",
       "      <td>3.34110</td>\n",
       "    </tr>\n",
       "  </tbody>\n",
       "</table>\n",
       "<p>1787 rows × 4 columns</p>\n",
       "</div>"
      ],
      "text/plain": [
       "           Gebiet Code  Jahr    score\n",
       "0     Afghanistan  AFG  2011  4.25835\n",
       "1     Afghanistan  AFG  2014  3.57500\n",
       "2     Afghanistan  AFG  2015  3.36000\n",
       "3     Afghanistan  AFG  2016  3.79400\n",
       "4     Afghanistan  AFG  2017  3.63150\n",
       "...           ...  ...   ...      ...\n",
       "1782     Zimbabwe  ZWE  2019  3.29920\n",
       "1783     Zimbabwe  ZWE  2020  3.14480\n",
       "1784     Zimbabwe  ZWE  2021  2.99510\n",
       "1785     Zimbabwe  ZWE  2022  3.20350\n",
       "1786     Zimbabwe  ZWE  2023  3.34110\n",
       "\n",
       "[1787 rows x 4 columns]"
      ]
     },
     "execution_count": 6,
     "metadata": {},
     "output_type": "execute_result"
    }
   ],
   "source": [
    "import pandas as pd\n",
    "df = pd.read_csv('happiness-cantril-ladder.csv', skiprows=1,\n",
    "                 names=['Gebiet','Code','Jahr','score']) \n",
    "df"
   ]
  },
  {
   "cell_type": "code",
   "execution_count": 16,
   "id": "98845b14",
   "metadata": {},
   "outputs": [
    {
     "data": {
      "text/plain": [
       "178"
      ]
     },
     "execution_count": 16,
     "metadata": {},
     "output_type": "execute_result"
    }
   ],
   "source": [
    "len(df['Gebiet'].unique())"
   ]
  },
  {
   "cell_type": "code",
   "execution_count": 17,
   "id": "179036ae",
   "metadata": {},
   "outputs": [
    {
     "data": {
      "text/plain": [
       "Gebiet\n",
       "Afghanistan    11\n",
       "Niger          11\n",
       "Montenegro     11\n",
       "Morocco        11\n",
       "Myanmar        11\n",
       "               ..\n",
       "Djibouti        2\n",
       "Puerto Rico     2\n",
       "Cuba            1\n",
       "Guyana          1\n",
       "Oman            1\n",
       "Name: count, Length: 178, dtype: int64"
      ]
     },
     "execution_count": 17,
     "metadata": {},
     "output_type": "execute_result"
    }
   ],
   "source": [
    "df['Gebiet'].value_counts()"
   ]
  },
  {
   "cell_type": "code",
   "execution_count": 18,
   "id": "27a7a60d",
   "metadata": {},
   "outputs": [
    {
     "data": {
      "text/plain": [
       "<Axes: xlabel='Anzahl Datenpunkte', ylabel='Gebiet'>"
      ]
     },
     "execution_count": 18,
     "metadata": {},
     "output_type": "execute_result"
    },
    {
     "data": {
      "image/png": "[encoded data removed]",
      "text/plain": [
       "<Figure size 640x480 with 1 Axes>"
      ]
     },
     "metadata": {},
     "output_type": "display_data"
    }
   ],
   "source": [
    "df['Gebiet'].value_counts().head(25).plot(kind='barh', xlabel='Anzahl Datenpunkte')"
   ]
  },
  {
   "cell_type": "code",
   "execution_count": 23,
   "id": "b8c2299f",
   "metadata": {},
   "outputs": [
    {
     "data": {
      "text/plain": [
       "[Text(0, 0, ''),\n",
       " Text(1, 0, ''),\n",
       " Text(2, 0, ''),\n",
       " Text(3, 0, ''),\n",
       " Text(4, 0, ''),\n",
       " Text(5, 0, ''),\n",
       " Text(6, 0, ''),\n",
       " Text(7, 0, ''),\n",
       " Text(8, 0, ''),\n",
       " Text(9, 0, ''),\n",
       " Text(10, 0, ''),\n",
       " Text(11, 0, ''),\n",
       " Text(12, 0, ''),\n",
       " Text(13, 0, ''),\n",
       " Text(14, 0, ''),\n",
       " Text(15, 0, ''),\n",
       " Text(16, 0, ''),\n",
       " Text(17, 0, ''),\n",
       " Text(18, 0, ''),\n",
       " Text(19, 0, ''),\n",
       " Text(20, 0, ''),\n",
       " Text(21, 0, ''),\n",
       " Text(22, 0, ''),\n",
       " Text(23, 0, ''),\n",
       " Text(24, 0, ''),\n",
       " Text(25, 0, ''),\n",
       " Text(26, 0, ''),\n",
       " Text(27, 0, ''),\n",
       " Text(28, 0, ''),\n",
       " Text(29, 0, ''),\n",
       " Text(30, 0, ''),\n",
       " Text(31, 0, ''),\n",
       " Text(32, 0, ''),\n",
       " Text(33, 0, ''),\n",
       " Text(34, 0, ''),\n",
       " Text(35, 0, ''),\n",
       " Text(36, 0, ''),\n",
       " Text(37, 0, ''),\n",
       " Text(38, 0, ''),\n",
       " Text(39, 0, ''),\n",
       " Text(40, 0, ''),\n",
       " Text(41, 0, ''),\n",
       " Text(42, 0, ''),\n",
       " Text(43, 0, ''),\n",
       " Text(44, 0, ''),\n",
       " Text(45, 0, ''),\n",
       " Text(46, 0, ''),\n",
       " Text(47, 0, ''),\n",
       " Text(48, 0, ''),\n",
       " Text(49, 0, ''),\n",
       " Text(50, 0, ''),\n",
       " Text(51, 0, ''),\n",
       " Text(52, 0, ''),\n",
       " Text(53, 0, ''),\n",
       " Text(54, 0, ''),\n",
       " Text(55, 0, ''),\n",
       " Text(56, 0, ''),\n",
       " Text(57, 0, ''),\n",
       " Text(58, 0, ''),\n",
       " Text(59, 0, ''),\n",
       " Text(60, 0, ''),\n",
       " Text(61, 0, ''),\n",
       " Text(62, 0, ''),\n",
       " Text(63, 0, ''),\n",
       " Text(64, 0, ''),\n",
       " Text(65, 0, ''),\n",
       " Text(66, 0, ''),\n",
       " Text(67, 0, ''),\n",
       " Text(68, 0, ''),\n",
       " Text(69, 0, ''),\n",
       " Text(70, 0, ''),\n",
       " Text(71, 0, ''),\n",
       " Text(72, 0, ''),\n",
       " Text(73, 0, ''),\n",
       " Text(74, 0, ''),\n",
       " Text(75, 0, ''),\n",
       " Text(76, 0, ''),\n",
       " Text(77, 0, ''),\n",
       " Text(78, 0, ''),\n",
       " Text(79, 0, ''),\n",
       " Text(80, 0, ''),\n",
       " Text(81, 0, ''),\n",
       " Text(82, 0, ''),\n",
       " Text(83, 0, ''),\n",
       " Text(84, 0, ''),\n",
       " Text(85, 0, ''),\n",
       " Text(86, 0, ''),\n",
       " Text(87, 0, ''),\n",
       " Text(88, 0, ''),\n",
       " Text(89, 0, ''),\n",
       " Text(90, 0, ''),\n",
       " Text(91, 0, ''),\n",
       " Text(92, 0, ''),\n",
       " Text(93, 0, ''),\n",
       " Text(94, 0, ''),\n",
       " Text(95, 0, ''),\n",
       " Text(96, 0, ''),\n",
       " Text(97, 0, ''),\n",
       " Text(98, 0, ''),\n",
       " Text(99, 0, ''),\n",
       " Text(100, 0, ''),\n",
       " Text(101, 0, ''),\n",
       " Text(102, 0, ''),\n",
       " Text(103, 0, ''),\n",
       " Text(104, 0, ''),\n",
       " Text(105, 0, ''),\n",
       " Text(106, 0, ''),\n",
       " Text(107, 0, ''),\n",
       " Text(108, 0, ''),\n",
       " Text(109, 0, ''),\n",
       " Text(110, 0, ''),\n",
       " Text(111, 0, ''),\n",
       " Text(112, 0, ''),\n",
       " Text(113, 0, ''),\n",
       " Text(114, 0, ''),\n",
       " Text(115, 0, ''),\n",
       " Text(116, 0, ''),\n",
       " Text(117, 0, ''),\n",
       " Text(118, 0, ''),\n",
       " Text(119, 0, ''),\n",
       " Text(120, 0, ''),\n",
       " Text(121, 0, ''),\n",
       " Text(122, 0, ''),\n",
       " Text(123, 0, ''),\n",
       " Text(124, 0, ''),\n",
       " Text(125, 0, ''),\n",
       " Text(126, 0, ''),\n",
       " Text(127, 0, ''),\n",
       " Text(128, 0, ''),\n",
       " Text(129, 0, ''),\n",
       " Text(130, 0, ''),\n",
       " Text(131, 0, ''),\n",
       " Text(132, 0, ''),\n",
       " Text(133, 0, ''),\n",
       " Text(134, 0, ''),\n",
       " Text(135, 0, ''),\n",
       " Text(136, 0, ''),\n",
       " Text(137, 0, ''),\n",
       " Text(138, 0, ''),\n",
       " Text(139, 0, ''),\n",
       " Text(140, 0, ''),\n",
       " Text(141, 0, ''),\n",
       " Text(142, 0, ''),\n",
       " Text(143, 0, ''),\n",
       " Text(144, 0, ''),\n",
       " Text(145, 0, ''),\n",
       " Text(146, 0, ''),\n",
       " Text(147, 0, ''),\n",
       " Text(148, 0, ''),\n",
       " Text(149, 0, ''),\n",
       " Text(150, 0, ''),\n",
       " Text(151, 0, ''),\n",
       " Text(152, 0, ''),\n",
       " Text(153, 0, ''),\n",
       " Text(154, 0, ''),\n",
       " Text(155, 0, ''),\n",
       " Text(156, 0, ''),\n",
       " Text(157, 0, ''),\n",
       " Text(158, 0, ''),\n",
       " Text(159, 0, ''),\n",
       " Text(160, 0, ''),\n",
       " Text(161, 0, ''),\n",
       " Text(162, 0, ''),\n",
       " Text(163, 0, ''),\n",
       " Text(164, 0, ''),\n",
       " Text(165, 0, ''),\n",
       " Text(166, 0, ''),\n",
       " Text(167, 0, ''),\n",
       " Text(168, 0, ''),\n",
       " Text(169, 0, ''),\n",
       " Text(170, 0, ''),\n",
       " Text(171, 0, ''),\n",
       " Text(172, 0, ''),\n",
       " Text(173, 0, ''),\n",
       " Text(174, 0, ''),\n",
       " Text(175, 0, ''),\n",
       " Text(176, 0, ''),\n",
       " Text(177, 0, '')]"
      ]
     },
     "execution_count": 23,
     "metadata": {},
     "output_type": "execute_result"
    },
    {
     "data": {
      "image/png": "[encoded data removed]",
      "text/plain": [
       "<Figure size 1000x500 with 1 Axes>"
      ]
     },
     "metadata": {},
     "output_type": "display_data"
    }
   ],
   "source": [
    "ax = df['Gebiet'].value_counts().plot(kind='bar',ylabel='Anzahl',figsize= (10,5))\n",
    "ax.set_xticklabels([])"
   ]
  },
  {
   "cell_type": "code",
   "execution_count": 24,
   "id": "8255ac52",
   "metadata": {},
   "outputs": [
    {
     "name": "stdout",
     "output_type": "stream",
     "text": [
      "Mittelwert: 5.455646661275882\n"
     ]
    }
   ],
   "source": [
    "print('Mittelwert:', df['score'].mean())"
   ]
  },
  {
   "cell_type": "code",
   "execution_count": 26,
   "id": "f2e0b1f3",
   "metadata": {},
   "outputs": [
    {
     "name": "stdout",
     "output_type": "stream",
     "text": [
      "Median: 5.4318\n"
     ]
    }
   ],
   "source": [
    "print('Median:', df['score'].median())"
   ]
  },
  {
   "cell_type": "code",
   "execution_count": 27,
   "id": "69bff5d4",
   "metadata": {},
   "outputs": [
    {
     "name": "stdout",
     "output_type": "stream",
     "text": [
      "Standardabweichung: 1.1146867665403009\n"
     ]
    }
   ],
   "source": [
    "print('Standardabweichung:', df['score'].std())"
   ]
  },
  {
   "cell_type": "markdown",
   "id": "bbdf3294",
   "metadata": {},
   "source": [
    "## 4. Analyse \n",
    "\n",
    "### Vorgehen\n",
    "- Spezifische Untersuchung der Fragestellung (Berechnungen)\n",
    "- Visualisieren der Resultate: Verwendet Achsenbeschriftung und überlegt euch, welche Art von Darstellung sinnvoll ist (Kuchen-, Säulen, Liniendiagramm; 2 y-Achsen?)\n",
    "- Beschreiben der Beobachtungen\n",
    "- Interpretation der Resultate (Hypothesen zu den Resultaten)\n",
    "- Untermauern der Interpretation mittels Hinweise zur Literatur (Mögliche Zusammenhänge aufzeigen).\n",
    "\n"
   ]
  },
  {
   "cell_type": "code",
   "execution_count": null,
   "metadata": {},
   "outputs": [],
   "source": []
  }
 ],
 "metadata": {
  "kernelspec": {
   "display_name": "Python 3 (ipykernel)",
   "language": "python",
   "name": "python3"
  },
  "language_info": {
   "codemirror_mode": {
    "name": "ipython",
    "version": 3
   },
   "file_extension": ".py",
   "mimetype": "text/x-python",
   "name": "python",
   "nbconvert_exporter": "python",
   "pygments_lexer": "ipython3",
   "version": "3.12.4"
  }
 },
 "nbformat": 4,
 "nbformat_minor": 5
}
