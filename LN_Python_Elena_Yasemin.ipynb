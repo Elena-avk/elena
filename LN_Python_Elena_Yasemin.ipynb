{
 "cells": [
  {
   "cell_type": "markdown",
   "id": "2341b96f",
   "metadata": {},
   "source": [
    "# Grundgerüst Leistungsausweis\n",
    "Dieses Notebook soll euch als Grundgerüst für euren Leistungsnachweis dienen. Es soll euch eine Idee/ Hilfestellung bieten, wie man einen neuen Datensatz, basierend auf einer Fragestellung, strukturiert analysieren und interpretieren kann. Wie besagt, dient das Notebook als Hilfestellung, ist jedoch keinenfalls vollständig ausgeschöpft. In diesem Sinne dürft ihr auch gerne Sachen miteinbeziehen, welche hier nicht genannt werden. \n",
    "\n",
    "-> Bitte schreibt die Antwort zu den jeweiligen Punkten an oberster Stelle unterhalb der Titel (so wie dies auch im Leistungsnachweisbeispiel gemacht wurde).\n",
    "\n",
    "\n",
    "## Struktur\n",
    "1. Fragestellung(en) und Datenbeschaffung\n",
    "2. Daten laden\n",
    "3. Daten vorbereiten\n",
    "4. Statistik der Rohdaten (Generell im Longformat)\n",
    "5. Analyse der Daten\n",
    "\n",
    "**Wichtig:** Alle graphischen Darstellungen sollten mindestens *Titel, Ticks- und Achsenbeschriftung* beinhalten (Siehe plots im Leistungsnachweisbeispiel)\n",
    "\n",
    "---"
   ]
  },
  {
   "cell_type": "markdown",
   "id": "f9e9bf68",
   "metadata": {},
   "source": [
    "## 1. Fragestellung(en) und Datenbeschaffung\n",
    "### 1.1 Titel: \n",
    "- Self-reported life satisfaction, 2011 to 2023 \n",
    "### 1.2 Fragestellung:\n",
    "- Welches Land hat die höchste/niedriegste Lebenszufriedenheit? Was sind die Gründe dafür? \n",
    "### 1.3 Datenquelle(n):\n",
    "Beispiele für mögliche Datenquellen:\n",
    "- https://ourworldindata.org\n",
    "-\n",
    "\n",
    "\n"
   ]
  },
  {
   "cell_type": "markdown",
   "id": "3008eecd",
   "metadata": {},
   "source": [
    "### 1.4 Daten beschaffen und laden"
   ]
  },
  {
   "cell_type": "code",
   "execution_count": 2,
   "id": "a27050af",
   "metadata": {},
   "outputs": [],
   "source": [
    "# lade deine Bibliotheken -> Pandas, Seaborn, Matplotlib sind die wichtigsten für diese Aufgaben\n",
    "\n",
    "import pandas as pd\n",
    "import seaborn as sns\n",
    "from matplotlib import pyplot as plt"
   ]
  },
  {
   "cell_type": "code",
   "execution_count": 147,
   "id": "18941208",
   "metadata": {},
   "outputs": [
    {
     "data": {
      "text/html": [
       "<div>\n",
       "<style scoped>\n",
       "    .dataframe tbody tr th:only-of-type {\n",
       "        vertical-align: middle;\n",
       "    }\n",
       "\n",
       "    .dataframe tbody tr th {\n",
       "        vertical-align: top;\n",
       "    }\n",
       "\n",
       "    .dataframe thead th {\n",
       "        text-align: right;\n",
       "    }\n",
       "</style>\n",
       "<table border=\"1\" class=\"dataframe\">\n",
       "  <thead>\n",
       "    <tr style=\"text-align: right;\">\n",
       "      <th></th>\n",
       "      <th>Gebiet</th>\n",
       "      <th>Code</th>\n",
       "      <th>Jahr</th>\n",
       "      <th>Cantril ladder score</th>\n",
       "    </tr>\n",
       "  </thead>\n",
       "  <tbody>\n",
       "    <tr>\n",
       "      <th>0</th>\n",
       "      <td>Afghanistan</td>\n",
       "      <td>AFG</td>\n",
       "      <td>2011</td>\n",
       "      <td>4.25835</td>\n",
       "    </tr>\n",
       "    <tr>\n",
       "      <th>1</th>\n",
       "      <td>Afghanistan</td>\n",
       "      <td>AFG</td>\n",
       "      <td>2014</td>\n",
       "      <td>3.57500</td>\n",
       "    </tr>\n",
       "    <tr>\n",
       "      <th>2</th>\n",
       "      <td>Afghanistan</td>\n",
       "      <td>AFG</td>\n",
       "      <td>2015</td>\n",
       "      <td>3.36000</td>\n",
       "    </tr>\n",
       "    <tr>\n",
       "      <th>3</th>\n",
       "      <td>Afghanistan</td>\n",
       "      <td>AFG</td>\n",
       "      <td>2016</td>\n",
       "      <td>3.79400</td>\n",
       "    </tr>\n",
       "    <tr>\n",
       "      <th>4</th>\n",
       "      <td>Afghanistan</td>\n",
       "      <td>AFG</td>\n",
       "      <td>2017</td>\n",
       "      <td>3.63150</td>\n",
       "    </tr>\n",
       "  </tbody>\n",
       "</table>\n",
       "</div>"
      ],
      "text/plain": [
       "        Gebiet Code  Jahr  Cantril ladder score\n",
       "0  Afghanistan  AFG  2011               4.25835\n",
       "1  Afghanistan  AFG  2014               3.57500\n",
       "2  Afghanistan  AFG  2015               3.36000\n",
       "3  Afghanistan  AFG  2016               3.79400\n",
       "4  Afghanistan  AFG  2017               3.63150"
      ]
     },
     "execution_count": 147,
     "metadata": {},
     "output_type": "execute_result"
    }
   ],
   "source": [
    "df = pd.read_csv('happiness-cantril-ladder.csv', skiprows=1,\n",
    "                 names=['Gebiet','Code','Jahr','Cantril ladder score']) \n",
    "df.head()"
   ]
  },
  {
   "cell_type": "markdown",
   "id": "25d1e798",
   "metadata": {},
   "source": [
    "## 2. Daten vorbereiten \n",
    "- Welches Format hat mein Datensatz bzw. wie sind meine Kolumnen strukturiert?\n",
    "- Welches Format kann ich für welche Teilschritte verwenden (wann soll ich pivot bzw. wide format verwenden)?\n",
    "- Welche Datentypen kommen in meinem Datensatz vor?"
   ]
  },
  {
   "cell_type": "markdown",
   "id": "f1ead24b",
   "metadata": {},
   "source": [
    "Die Daten sind im Long-Format."
   ]
  },
  {
   "cell_type": "code",
   "execution_count": 4,
   "id": "7f4fefb8",
   "metadata": {},
   "outputs": [
    {
     "data": {
      "text/html": [
       "<div>\n",
       "<style scoped>\n",
       "    .dataframe tbody tr th:only-of-type {\n",
       "        vertical-align: middle;\n",
       "    }\n",
       "\n",
       "    .dataframe tbody tr th {\n",
       "        vertical-align: top;\n",
       "    }\n",
       "\n",
       "    .dataframe thead th {\n",
       "        text-align: right;\n",
       "    }\n",
       "</style>\n",
       "<table border=\"1\" class=\"dataframe\">\n",
       "  <thead>\n",
       "    <tr style=\"text-align: right;\">\n",
       "      <th>Jahr</th>\n",
       "      <th>2011</th>\n",
       "      <th>2014</th>\n",
       "      <th>2015</th>\n",
       "      <th>2016</th>\n",
       "      <th>2017</th>\n",
       "      <th>2018</th>\n",
       "      <th>2019</th>\n",
       "      <th>2020</th>\n",
       "      <th>2021</th>\n",
       "      <th>2022</th>\n",
       "      <th>2023</th>\n",
       "    </tr>\n",
       "    <tr>\n",
       "      <th>Gebiet</th>\n",
       "      <th></th>\n",
       "      <th></th>\n",
       "      <th></th>\n",
       "      <th></th>\n",
       "      <th></th>\n",
       "      <th></th>\n",
       "      <th></th>\n",
       "      <th></th>\n",
       "      <th></th>\n",
       "      <th></th>\n",
       "      <th></th>\n",
       "    </tr>\n",
       "  </thead>\n",
       "  <tbody>\n",
       "    <tr>\n",
       "      <th>Afghanistan</th>\n",
       "      <td>4.258350</td>\n",
       "      <td>3.575000</td>\n",
       "      <td>3.360000</td>\n",
       "      <td>3.794000</td>\n",
       "      <td>3.631500</td>\n",
       "      <td>3.203300</td>\n",
       "      <td>2.566900</td>\n",
       "      <td>2.522900</td>\n",
       "      <td>2.403800</td>\n",
       "      <td>1.859000</td>\n",
       "      <td>1.721000</td>\n",
       "    </tr>\n",
       "    <tr>\n",
       "      <th>Africa</th>\n",
       "      <td>4.453107</td>\n",
       "      <td>4.474157</td>\n",
       "      <td>4.395968</td>\n",
       "      <td>4.457408</td>\n",
       "      <td>4.445971</td>\n",
       "      <td>4.511974</td>\n",
       "      <td>4.459995</td>\n",
       "      <td>4.551006</td>\n",
       "      <td>4.517288</td>\n",
       "      <td>4.426524</td>\n",
       "      <td>4.384616</td>\n",
       "    </tr>\n",
       "    <tr>\n",
       "      <th>Albania</th>\n",
       "      <td>5.133704</td>\n",
       "      <td>4.959000</td>\n",
       "      <td>4.655000</td>\n",
       "      <td>4.644000</td>\n",
       "      <td>4.586000</td>\n",
       "      <td>4.718600</td>\n",
       "      <td>4.882700</td>\n",
       "      <td>5.117400</td>\n",
       "      <td>5.198800</td>\n",
       "      <td>5.277300</td>\n",
       "      <td>5.304200</td>\n",
       "    </tr>\n",
       "    <tr>\n",
       "      <th>Algeria</th>\n",
       "      <td>5.367827</td>\n",
       "      <td>5.605000</td>\n",
       "      <td>6.355000</td>\n",
       "      <td>5.872000</td>\n",
       "      <td>5.294600</td>\n",
       "      <td>5.211300</td>\n",
       "      <td>5.005100</td>\n",
       "      <td>4.887100</td>\n",
       "      <td>5.122300</td>\n",
       "      <td>5.329100</td>\n",
       "      <td>5.363500</td>\n",
       "    </tr>\n",
       "    <tr>\n",
       "      <th>Angola</th>\n",
       "      <td>4.178380</td>\n",
       "      <td>4.033000</td>\n",
       "      <td>3.866000</td>\n",
       "      <td>3.795000</td>\n",
       "      <td>3.794800</td>\n",
       "      <td>NaN</td>\n",
       "      <td>NaN</td>\n",
       "      <td>NaN</td>\n",
       "      <td>NaN</td>\n",
       "      <td>NaN</td>\n",
       "      <td>NaN</td>\n",
       "    </tr>\n",
       "  </tbody>\n",
       "</table>\n",
       "</div>"
      ],
      "text/plain": [
       "Jahr             2011      2014      2015      2016      2017      2018  \\\n",
       "Gebiet                                                                    \n",
       "Afghanistan  4.258350  3.575000  3.360000  3.794000  3.631500  3.203300   \n",
       "Africa       4.453107  4.474157  4.395968  4.457408  4.445971  4.511974   \n",
       "Albania      5.133704  4.959000  4.655000  4.644000  4.586000  4.718600   \n",
       "Algeria      5.367827  5.605000  6.355000  5.872000  5.294600  5.211300   \n",
       "Angola       4.178380  4.033000  3.866000  3.795000  3.794800       NaN   \n",
       "\n",
       "Jahr             2019      2020      2021      2022      2023  \n",
       "Gebiet                                                         \n",
       "Afghanistan  2.566900  2.522900  2.403800  1.859000  1.721000  \n",
       "Africa       4.459995  4.551006  4.517288  4.426524  4.384616  \n",
       "Albania      4.882700  5.117400  5.198800  5.277300  5.304200  \n",
       "Algeria      5.005100  4.887100  5.122300  5.329100  5.363500  \n",
       "Angola            NaN       NaN       NaN       NaN       NaN  "
      ]
     },
     "execution_count": 4,
     "metadata": {},
     "output_type": "execute_result"
    }
   ],
   "source": [
    "df_pivot = df.pivot(index='Gebiet', columns='Jahr', values='Cantril ladder score')\n",
    "df_pivot.head()"
   ]
  },
  {
   "cell_type": "markdown",
   "id": "28195847",
   "metadata": {},
   "source": [
    "## 3. Statistik der Rohdaten (Analyse im Long-Format)\n",
    "- Ist meine Variable kontinuierlich oder diskret? Falls diskret, wieviele einzigartige Klassen gibt es? Wieviele Datenpunkte pro Klasse sind vorhanden?\n",
    "- Anzahl Datenpunkte (Beschreibend und Graphische Darstellung)\n",
    "    - Wieviele Datenpunkte sind für die bestimmten Variabeln vorhanden?\n",
    "    - Wo fehlen Datenpunkte?\n",
    "- Wie ist die Verteilung der zu untersuchenden Variabel(n) (Histogram, Boxplot, Säulendiagram)\n",
    "- Vermutest du Zusammenhänge zwischen zwei Variabeln (Streuungsdiagramm, Korrelationsmatrix)\n",
    "\n",
    "*Notiz: Zu jeder Kolumne sollte generell eine Aussage möglich sein.*"
   ]
  },
  {
   "cell_type": "markdown",
   "id": "cd74f306",
   "metadata": {},
   "source": [
    "Über die einzelnen Spalten lässt sich Folgendes aussagen: \n",
    "- Die Spalte Gebiete enthält 178 verschiedene Gebiete. \n",
    "- Die Spalte Codes enthält 169 verschiedene Codes. \n",
    "- Es sind Daten zwischen 2011 und 2023 vorhanden. 2014 gab es am meisten Daten. \n"
   ]
  },
  {
   "cell_type": "code",
   "execution_count": 5,
   "id": "6db8081e",
   "metadata": {},
   "outputs": [
    {
     "data": {
      "text/html": [
       "<div>\n",
       "<style scoped>\n",
       "    .dataframe tbody tr th:only-of-type {\n",
       "        vertical-align: middle;\n",
       "    }\n",
       "\n",
       "    .dataframe tbody tr th {\n",
       "        vertical-align: top;\n",
       "    }\n",
       "\n",
       "    .dataframe thead th {\n",
       "        text-align: right;\n",
       "    }\n",
       "</style>\n",
       "<table border=\"1\" class=\"dataframe\">\n",
       "  <thead>\n",
       "    <tr style=\"text-align: right;\">\n",
       "      <th></th>\n",
       "      <th>Gebiet</th>\n",
       "      <th>Code</th>\n",
       "      <th>Jahr</th>\n",
       "      <th>Cantril ladder score</th>\n",
       "    </tr>\n",
       "  </thead>\n",
       "  <tbody>\n",
       "    <tr>\n",
       "      <th>0</th>\n",
       "      <td>Afghanistan</td>\n",
       "      <td>AFG</td>\n",
       "      <td>2011</td>\n",
       "      <td>4.25835</td>\n",
       "    </tr>\n",
       "    <tr>\n",
       "      <th>1</th>\n",
       "      <td>Afghanistan</td>\n",
       "      <td>AFG</td>\n",
       "      <td>2014</td>\n",
       "      <td>3.57500</td>\n",
       "    </tr>\n",
       "    <tr>\n",
       "      <th>2</th>\n",
       "      <td>Afghanistan</td>\n",
       "      <td>AFG</td>\n",
       "      <td>2015</td>\n",
       "      <td>3.36000</td>\n",
       "    </tr>\n",
       "    <tr>\n",
       "      <th>3</th>\n",
       "      <td>Afghanistan</td>\n",
       "      <td>AFG</td>\n",
       "      <td>2016</td>\n",
       "      <td>3.79400</td>\n",
       "    </tr>\n",
       "    <tr>\n",
       "      <th>4</th>\n",
       "      <td>Afghanistan</td>\n",
       "      <td>AFG</td>\n",
       "      <td>2017</td>\n",
       "      <td>3.63150</td>\n",
       "    </tr>\n",
       "    <tr>\n",
       "      <th>...</th>\n",
       "      <td>...</td>\n",
       "      <td>...</td>\n",
       "      <td>...</td>\n",
       "      <td>...</td>\n",
       "    </tr>\n",
       "    <tr>\n",
       "      <th>1782</th>\n",
       "      <td>Zimbabwe</td>\n",
       "      <td>ZWE</td>\n",
       "      <td>2019</td>\n",
       "      <td>3.29920</td>\n",
       "    </tr>\n",
       "    <tr>\n",
       "      <th>1783</th>\n",
       "      <td>Zimbabwe</td>\n",
       "      <td>ZWE</td>\n",
       "      <td>2020</td>\n",
       "      <td>3.14480</td>\n",
       "    </tr>\n",
       "    <tr>\n",
       "      <th>1784</th>\n",
       "      <td>Zimbabwe</td>\n",
       "      <td>ZWE</td>\n",
       "      <td>2021</td>\n",
       "      <td>2.99510</td>\n",
       "    </tr>\n",
       "    <tr>\n",
       "      <th>1785</th>\n",
       "      <td>Zimbabwe</td>\n",
       "      <td>ZWE</td>\n",
       "      <td>2022</td>\n",
       "      <td>3.20350</td>\n",
       "    </tr>\n",
       "    <tr>\n",
       "      <th>1786</th>\n",
       "      <td>Zimbabwe</td>\n",
       "      <td>ZWE</td>\n",
       "      <td>2023</td>\n",
       "      <td>3.34110</td>\n",
       "    </tr>\n",
       "  </tbody>\n",
       "</table>\n",
       "<p>1787 rows × 4 columns</p>\n",
       "</div>"
      ],
      "text/plain": [
       "           Gebiet Code  Jahr  Cantril ladder score\n",
       "0     Afghanistan  AFG  2011               4.25835\n",
       "1     Afghanistan  AFG  2014               3.57500\n",
       "2     Afghanistan  AFG  2015               3.36000\n",
       "3     Afghanistan  AFG  2016               3.79400\n",
       "4     Afghanistan  AFG  2017               3.63150\n",
       "...           ...  ...   ...                   ...\n",
       "1782     Zimbabwe  ZWE  2019               3.29920\n",
       "1783     Zimbabwe  ZWE  2020               3.14480\n",
       "1784     Zimbabwe  ZWE  2021               2.99510\n",
       "1785     Zimbabwe  ZWE  2022               3.20350\n",
       "1786     Zimbabwe  ZWE  2023               3.34110\n",
       "\n",
       "[1787 rows x 4 columns]"
      ]
     },
     "execution_count": 5,
     "metadata": {},
     "output_type": "execute_result"
    }
   ],
   "source": [
    "import pandas as pd\n",
    "df = pd.read_csv('happiness-cantril-ladder.csv', skiprows=1,\n",
    "                 names=['Gebiet','Code','Jahr','Cantril ladder score']) \n",
    "df"
   ]
  },
  {
   "cell_type": "code",
   "execution_count": 73,
   "id": "f1832844",
   "metadata": {},
   "outputs": [
    {
     "data": {
      "text/plain": [
       "Gebiet     object\n",
       "Code       object\n",
       "Jahr        int64\n",
       "score     float64\n",
       "dtype: object"
      ]
     },
     "execution_count": 73,
     "metadata": {},
     "output_type": "execute_result"
    }
   ],
   "source": [
    "df.dtypes"
   ]
  },
  {
   "cell_type": "code",
   "execution_count": 6,
   "id": "98845b14",
   "metadata": {},
   "outputs": [
    {
     "data": {
      "text/plain": [
       "178"
      ]
     },
     "execution_count": 6,
     "metadata": {},
     "output_type": "execute_result"
    }
   ],
   "source": [
    "len(df['Gebiet'].unique())\n"
   ]
  },
  {
   "cell_type": "code",
   "execution_count": 77,
   "id": "77d130a7",
   "metadata": {},
   "outputs": [
    {
     "data": {
      "text/plain": [
       "Gebiet\n",
       "Afghanistan    11\n",
       "Niger          11\n",
       "Montenegro     11\n",
       "Morocco        11\n",
       "Myanmar        11\n",
       "               ..\n",
       "Djibouti        2\n",
       "Puerto Rico     2\n",
       "Cuba            1\n",
       "Guyana          1\n",
       "Oman            1\n",
       "Name: count, Length: 178, dtype: int64"
      ]
     },
     "execution_count": 77,
     "metadata": {},
     "output_type": "execute_result"
    }
   ],
   "source": [
    "df['Gebiet'].value_counts()"
   ]
  },
  {
   "cell_type": "code",
   "execution_count": 78,
   "id": "a91d1f3d",
   "metadata": {},
   "outputs": [
    {
     "data": {
      "text/plain": [
       "<Axes: title={'center': 'Anzahl Datenpunkte pro Gebiet'}, xlabel='Gebiet', ylabel='Anzahl Datenpunkte'>"
      ]
     },
     "execution_count": 78,
     "metadata": {},
     "output_type": "execute_result"
    },
    {
     "data": {
      "image/png": "[encoded data removed]",
      "text/plain": [
       "<Figure size 1000x500 with 1 Axes>"
      ]
     },
     "metadata": {},
     "output_type": "display_data"
    }
   ],
   "source": [
    "df['Gebiet'].value_counts().plot(kind='bar', xticks=[],ylabel='Anzahl Datenpunkte',figsize= (10,5), title='Anzahl Datenpunkte pro Gebiet')"
   ]
  },
  {
   "cell_type": "code",
   "execution_count": 75,
   "id": "8968f247",
   "metadata": {},
   "outputs": [
    {
     "name": "stdout",
     "output_type": "stream",
     "text": [
      "Anzahl verschiedener Codes:  169\n"
     ]
    }
   ],
   "source": [
    "print('Anzahl verschiedener Codes: ', len(df['Code'].unique()))"
   ]
  },
  {
   "cell_type": "code",
   "execution_count": 76,
   "id": "93e5c4d6",
   "metadata": {},
   "outputs": [
    {
     "data": {
      "text/plain": [
       "Code\n",
       "AFG    11\n",
       "PHL    11\n",
       "MNE    11\n",
       "MAR    11\n",
       "MMR    11\n",
       "       ..\n",
       "PRI     2\n",
       "SUR     2\n",
       "CUB     1\n",
       "OMN     1\n",
       "GUY     1\n",
       "Name: count, Length: 168, dtype: int64"
      ]
     },
     "execution_count": 76,
     "metadata": {},
     "output_type": "execute_result"
    }
   ],
   "source": [
    "df['Code'].value_counts()"
   ]
  },
  {
   "cell_type": "code",
   "execution_count": 72,
   "id": "278dd842",
   "metadata": {},
   "outputs": [
    {
     "data": {
      "image/png": "[encoded data removed]",
      "text/plain": [
       "<Figure size 1000x500 with 1 Axes>"
      ]
     },
     "metadata": {},
     "output_type": "display_data"
    }
   ],
   "source": [
    "df['Code'].value_counts().plot(kind='bar',xticks=[], ylabel='Anzahl Datenpunkte',figsize= (10,5), title='Anzahl Datenpunkte pro Code');"
   ]
  },
  {
   "cell_type": "code",
   "execution_count": 156,
   "id": "6dc4aac4",
   "metadata": {},
   "outputs": [
    {
     "name": "stdout",
     "output_type": "stream",
     "text": [
      "Gebiet\n",
      "Azerbaijan                      10\n",
      "Laos                            10\n",
      "Yemen                           10\n",
      "Kuwait                          10\n",
      "Libya                           10\n",
      "Mozambique                      10\n",
      "Gabon                           10\n",
      "Namibia                         10\n",
      "Comoros                          9\n",
      "Democratic Republic of Congo     9\n",
      "Belarus                          9\n",
      "Turkmenistan                     9\n",
      "Rwanda                           9\n",
      "Lesotho                          8\n",
      "Northern Cyprus                  8\n",
      "Haiti                            8\n",
      "Burundi                          8\n",
      "Trinidad and Tobago              7\n",
      "Central African Republic         6\n",
      "Eswatini                         6\n",
      "Syria                            6\n",
      "Gambia                           6\n",
      "Qatar                            6\n",
      "Bhutan                           5\n",
      "Angola                           5\n",
      "Sudan                            5\n",
      "South Sudan                      5\n",
      "Belize                           4\n",
      "Somalia                          4\n",
      "Somaliland                       3\n",
      "Suriname                         2\n",
      "Maldives                         2\n",
      "Djibouti                         2\n",
      "Puerto Rico                      2\n",
      "Cuba                             1\n",
      "Guyana                           1\n",
      "Oman                             1\n",
      "Name: count, dtype: int64\n"
     ]
    }
   ],
   "source": [
    "low_data_countries = value_counts[value_counts < 11]\n",
    "print(low_data_countries)\n"
   ]
  },
  {
   "cell_type": "code",
   "execution_count": 159,
   "id": "3bbdf9e0",
   "metadata": {},
   "outputs": [
    {
     "name": "stdout",
     "output_type": "stream",
     "text": [
      "Number of countries with fewer than 11 data points: 37\n"
     ]
    }
   ],
   "source": [
    "value_counts = df['Gebiet'].value_counts()\n",
    "low_data_countries = value_counts[value_counts < 11]\n",
    "num_low_data_countries = low_data_countries.count()\n",
    "print(f\"Number of countries with fewer than 11 data points: {num_low_data_countries}\")"
   ]
  },
  {
   "cell_type": "code",
   "execution_count": 79,
   "id": "2f22099d",
   "metadata": {},
   "outputs": [
    {
     "name": "stdout",
     "output_type": "stream",
     "text": [
      "Anzahl verschiedener Jahre:  11\n"
     ]
    }
   ],
   "source": [
    "print('Anzahl verschiedener Jahre: ', len(df['Jahr'].unique()))"
   ]
  },
  {
   "cell_type": "code",
   "execution_count": 80,
   "id": "0c3fc941",
   "metadata": {},
   "outputs": [
    {
     "data": {
      "text/plain": [
       "Jahr\n",
       "2011    167\n",
       "2014    169\n",
       "2015    168\n",
       "2016    166\n",
       "2017    167\n",
       "2018    167\n",
       "2019    164\n",
       "2020    160\n",
       "2021    157\n",
       "2022    148\n",
       "2023    154\n",
       "Name: count, dtype: int64"
      ]
     },
     "execution_count": 80,
     "metadata": {},
     "output_type": "execute_result"
    }
   ],
   "source": [
    "df['Jahr'].value_counts().sort_index()"
   ]
  },
  {
   "cell_type": "code",
   "execution_count": 86,
   "id": "ac8e7e39",
   "metadata": {},
   "outputs": [
    {
     "data": {
      "text/plain": [
       "<matplotlib.legend.Legend at 0x157e50920>"
      ]
     },
     "execution_count": 86,
     "metadata": {},
     "output_type": "execute_result"
    },
    {
     "data": {
      "image/png": "[encoded data removed]",
      "text/plain": [
       "<Figure size 640x480 with 1 Axes>"
      ]
     },
     "metadata": {},
     "output_type": "display_data"
    }
   ],
   "source": [
    "g = df['Jahr'].value_counts().sort_index().plot(ylabel='Anzahl Datenpunkte', title='Anzahl Datenpunkte pro Jahr');\n",
    "g.axvline(x=2014, color='red',label='2014')\n",
    "g.legend()  "
   ]
  },
  {
   "cell_type": "code",
   "execution_count": 123,
   "id": "a72c81cf",
   "metadata": {},
   "outputs": [
    {
     "data": {
      "image/png": "[encoded data removed]",
      "text/plain": [
       "<Figure size 600x800 with 1 Axes>"
      ]
     },
     "metadata": {},
     "output_type": "display_data"
    }
   ],
   "source": [
    "plt.figure(figsize=(6, 8))\n",
    "sns.boxplot(data=[score_data],width=0.5,color=\"skyblue\",showmeans=True,meanprops={\"marker\": \"o\", \"markerfacecolor\": \"red\", \"markeredgecolor\": \"black\", \"markersize\": 8},whis=[0, 100] )\n",
    "\n",
    "plt.title(\"Boxplot: Cantril Ladder Score\", fontsize=16)\n",
    "plt.ylabel(\"Cantril Ladder Score\")\n",
    "plt.xticks([]) \n",
    "\n",
    "plt.show()"
   ]
  },
  {
   "cell_type": "code",
   "execution_count": 23,
   "id": "f882af66",
   "metadata": {},
   "outputs": [
    {
     "name": "stdout",
     "output_type": "stream",
     "text": [
      "Mittelwert: 5.455646661275882\n",
      "Median: 5.4318\n",
      "Standardabweichung: 1.1146867665403006\n",
      "5% Perzentil: 3.59783\n",
      "99.9% Perzentil: 7.825515400000003\n",
      "Max: 7.85574\n",
      "Min: 1.721\n"
     ]
    }
   ],
   "source": [
    "print('Mittelwert:',df['Cantril ladder score'].mean())\n",
    "print('Median:',df['Cantril ladder score'].median())\n",
    "print('Standardabweichung:',df['Cantril ladder score'].std())\n",
    "print('5% Perzentil:',df['Cantril ladder score'].quantile(0.05))\n",
    "print('99.9% Perzentil:',df['Cantril ladder score'].quantile(0.999))\n",
    "print('Max:',df['Cantril ladder score'].max())\n",
    "print('Min:',df['Cantril ladder score'].min())"
   ]
  },
  {
   "cell_type": "code",
   "execution_count": 14,
   "id": "c67e8916",
   "metadata": {},
   "outputs": [
    {
     "data": {
      "text/html": [
       "<div>\n",
       "<style scoped>\n",
       "    .dataframe tbody tr th:only-of-type {\n",
       "        vertical-align: middle;\n",
       "    }\n",
       "\n",
       "    .dataframe tbody tr th {\n",
       "        vertical-align: top;\n",
       "    }\n",
       "\n",
       "    .dataframe thead th {\n",
       "        text-align: right;\n",
       "    }\n",
       "</style>\n",
       "<table border=\"1\" class=\"dataframe\">\n",
       "  <thead>\n",
       "    <tr style=\"text-align: right;\">\n",
       "      <th></th>\n",
       "      <th>Jahr</th>\n",
       "      <th>Cantril ladder score</th>\n",
       "    </tr>\n",
       "  </thead>\n",
       "  <tbody>\n",
       "    <tr>\n",
       "      <th>count</th>\n",
       "      <td>1787.000000</td>\n",
       "      <td>1787.000000</td>\n",
       "    </tr>\n",
       "    <tr>\n",
       "      <th>mean</th>\n",
       "      <td>2017.702854</td>\n",
       "      <td>5.455647</td>\n",
       "    </tr>\n",
       "    <tr>\n",
       "      <th>std</th>\n",
       "      <td>3.470175</td>\n",
       "      <td>1.114687</td>\n",
       "    </tr>\n",
       "    <tr>\n",
       "      <th>min</th>\n",
       "      <td>2011.000000</td>\n",
       "      <td>1.721000</td>\n",
       "    </tr>\n",
       "    <tr>\n",
       "      <th>25%</th>\n",
       "      <td>2015.000000</td>\n",
       "      <td>4.594467</td>\n",
       "    </tr>\n",
       "    <tr>\n",
       "      <th>50%</th>\n",
       "      <td>2018.000000</td>\n",
       "      <td>5.431800</td>\n",
       "    </tr>\n",
       "    <tr>\n",
       "      <th>75%</th>\n",
       "      <td>2021.000000</td>\n",
       "      <td>6.298900</td>\n",
       "    </tr>\n",
       "    <tr>\n",
       "      <th>max</th>\n",
       "      <td>2023.000000</td>\n",
       "      <td>7.855740</td>\n",
       "    </tr>\n",
       "  </tbody>\n",
       "</table>\n",
       "</div>"
      ],
      "text/plain": [
       "              Jahr  Cantril ladder score\n",
       "count  1787.000000           1787.000000\n",
       "mean   2017.702854              5.455647\n",
       "std       3.470175              1.114687\n",
       "min    2011.000000              1.721000\n",
       "25%    2015.000000              4.594467\n",
       "50%    2018.000000              5.431800\n",
       "75%    2021.000000              6.298900\n",
       "max    2023.000000              7.855740"
      ]
     },
     "execution_count": 14,
     "metadata": {},
     "output_type": "execute_result"
    }
   ],
   "source": [
    "df.describe()"
   ]
  },
  {
   "cell_type": "code",
   "execution_count": 23,
   "id": "f7662fb6",
   "metadata": {},
   "outputs": [
    {
     "data": {
      "text/plain": [
       "<matplotlib.legend.Legend at 0x255d53432c0>"
      ]
     },
     "execution_count": 23,
     "metadata": {},
     "output_type": "execute_result"
    },
    {
     "data": {
      "image/png": "[encoded data removed]",
      "text/plain": [
       "<Figure size 640x480 with 1 Axes>"
      ]
     },
     "metadata": {},
     "output_type": "display_data"
    }
   ],
   "source": [
    "\n",
    "g = df['Cantril ladder score'].plot(kind='hist', bins=20, title='Histogramm Cantril ladder score', \n",
    "                           xlabel='Cantril ladder score', ylabel='Anzahl Datenpunkte')\n",
    "mean = df['Cantril ladder score'].mean()\n",
    "g.axvline(x=df['Cantril ladder score'].mean(), color='red',label=f'Mittelwert = {mean:.2f}')  \n",
    "\n",
    "\n",
    "median = df['Cantril ladder score'].median()\n",
    "g.axvline(x=df['Cantril ladder score'].median(), color='orange',label=  f'Median = {median:.2f}')  \n",
    "\n",
    "g.legend()\n"
   ]
  },
  {
   "cell_type": "markdown",
   "id": "1a3a9970",
   "metadata": {},
   "source": [
    "### Analyse Datensatz\n",
    "1. ... \n",
    "2. ..."
   ]
  },
  {
   "cell_type": "code",
   "execution_count": 178,
   "id": "16d5643e",
   "metadata": {},
   "outputs": [
    {
     "data": {
      "text/plain": [
       "Gebiet\n",
       "Venezuela       -1.9178\n",
       "Zimbabwe        -1.4652\n",
       "Lesotho         -1.3862\n",
       "Zambia          -1.0556\n",
       "Afghanistan     -1.0521\n",
       "                  ...  \n",
       "Togo             1.2678\n",
       "Guinea           1.3283\n",
       "Congo            1.3527\n",
       "Cote d'Ivoire    1.6510\n",
       "Benin            1.7052\n",
       "Length: 157, dtype: float64"
      ]
     },
     "execution_count": 178,
     "metadata": {},
     "output_type": "execute_result"
    }
   ],
   "source": [
    "diffs = df_pivot[2020]-df_pivot[2014]   \n",
    "diffs = diffs.sort_values().dropna()  \n",
    "diffs"
   ]
  },
  {
   "cell_type": "code",
   "execution_count": 179,
   "id": "4f223810",
   "metadata": {},
   "outputs": [
    {
     "data": {
      "text/plain": [
       "<Axes: title={'center': 'Grösste und kleinste Differenzen des Cantril ladder score 2011-2020'}, ylabel='Gebiet'>"
      ]
     },
     "execution_count": 179,
     "metadata": {},
     "output_type": "execute_result"
    },
    {
     "data": {
      "image/png": "[encoded data removed]",
      "text/plain": [
       "<Figure size 640x480 with 1 Axes>"
      ]
     },
     "metadata": {},
     "output_type": "display_data"
    }
   ],
   "source": [
    "diff_sel = (diffs < -1) | (diffs > 1) \n",
    "diffs[diff_sel].plot(kind='barh', title='Grösste und kleinste Differenzen des Cantril ladder score 2011-2020')"
   ]
  },
  {
   "cell_type": "code",
   "execution_count": 173,
   "id": "82dc6799",
   "metadata": {},
   "outputs": [
    {
     "name": "stdout",
     "output_type": "stream",
     "text": [
      "['Lebanon', 'Venezuela', 'Afghanistan', 'Jordan', 'India', 'Botswana', 'Turkmenistan', 'Kyrgyzstan', 'Estonia', 'Kosovo', \"Cote d'Ivoire\", 'Nicaragua', 'Philippines', 'Bahrain', 'Georgia', 'Liberia', 'Togo', 'Benin', 'Hungary', 'Mongolia', 'Congo', 'Romania', 'Latvia', 'Bulgaria', 'Serbia']\n"
     ]
    }
   ],
   "source": [
    "Gebiets_liste = diffs[diff_sel].index.tolist()  \n",
    "print(Gebiets_liste)"
   ]
  },
  {
   "cell_type": "code",
   "execution_count": null,
   "id": "2aaa0986",
   "metadata": {},
   "outputs": [],
   "source": []
  }
 ],
 "metadata": {
  "kernelspec": {
   "display_name": "base",
   "language": "python",
   "name": "python3"
  },
  "language_info": {
   "codemirror_mode": {
    "name": "ipython",
    "version": 3
   },
   "file_extension": ".py",
   "mimetype": "text/x-python",
   "name": "python",
   "nbconvert_exporter": "python",
   "pygments_lexer": "ipython3",
   "version": "3.12.4"
  }
 },
 "nbformat": 4,
 "nbformat_minor": 5
}
